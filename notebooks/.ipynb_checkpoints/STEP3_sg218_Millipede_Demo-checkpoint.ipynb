{
 "cells": [
  {
   "cell_type": "markdown",
   "id": "65ed5746",
   "metadata": {},
   "source": [
    "# Run sg218 Millipede Model\n",
    "\n",
    "### Prepare Data Input\n",
    "\n",
    "You will only need the encoding output from the previous step. You can also download the pre-computed encoding from [Zenodo](https://doi.org/10.5281/zenodo.13737880) at path: \n",
    "- CRISPR-CLEAR-data/data/encoding_output/20240905_v0_1_89_sg219_encoding_dataframes_variantdenoised_removed_CRISPResso2Merged_trimmed_ABE8e_encodings_rep0.tsv\n",
    "- CRISPR-CLEAR-data/data/encoding_output/20240905_v0_1_89_sg219_encoding_dataframes_variantdenoised_removed_CRISPResso2Merged_trimmed_ABE8e_encodings_rep1.tsv\n",
    "- CRISPR-CLEAR-data/data/encoding_output/20240905_v0_1_89_sg219_encoding_dataframes_variantdenoised_removed_CRISPResso2Merged_trimmed_ABE8e_encodings_rep2.tsv"
   ]
  },
  {
   "cell_type": "markdown",
   "id": "2029fb7e",
   "metadata": {},
   "source": [
    "### Import packages"
   ]
  },
  {
   "cell_type": "code",
   "execution_count": 28,
   "id": "386e7a16",
   "metadata": {},
   "outputs": [],
   "source": [
    "import os\n",
    "os.environ[\"CUDA_VISIBLE_DEVICES\"] = \"1\"\n",
    "\n",
    "\n",
    "from crispr_millipede import encoding as cme\n",
    "from crispr_millipede import modelling as cmm\n"
   ]
  },
  {
   "cell_type": "code",
   "execution_count": 29,
   "id": "16157389",
   "metadata": {},
   "outputs": [],
   "source": [
    "import pandas as pd\n",
    "import numpy as np\n",
    "\n",
    "from Bio import SeqIO\n",
    "from Bio.Seq import Seq\n",
    "\n",
    "import matplotlib.pyplot as plt"
   ]
  },
  {
   "cell_type": "code",
   "execution_count": 30,
   "id": "2d767578",
   "metadata": {},
   "outputs": [
    {
     "name": "stdout",
     "output_type": "stream",
     "text": [
      "Length of amplicon 346\n"
     ]
    }
   ],
   "source": [
    "# Set amplicon sequence - UPDATE\n",
    "\n",
    "amplicon = \"ACATGCTCTAGTGAAAGCCAGTCTGGGCAGCTGGGTAGCTAATGAGGGGATTAGAGAGATTTTGTTGAATGAAAGGCAGATTGAGTCCTGCTACTCGCCCCCTTCATTCCCCTTCATTCATGCCTCATTCTTCCGCCTCCCAGCCGCCTCAACTGGCCAAAGGGAAGTGGAGGCCCTGCCACCTGTAGGGAGGGTCCCCTGGGGCTTGCCCACAGCAAACAGGAAGTCACAGCCTGGTGAGATGGGCCTGGGAATCAGCCACTGAGAAAGTGGGTCTCTTGGGTCCCTGAATTCTTTTTCTGAGTCCCTGCAGCAGTGAAAAAGACACAGAGGCACATAGAGAGTG\"\n",
    "print(f\"Length of amplicon {len(amplicon)}\")"
   ]
  },
  {
   "cell_type": "markdown",
   "id": "96262430",
   "metadata": {},
   "source": [
    "### Prepare Millipede specification parameters"
   ]
  },
  {
   "cell_type": "code",
   "execution_count": 31,
   "id": "6391d775",
   "metadata": {},
   "outputs": [],
   "source": [
    "design_matrix_spec = cmm.MillipedeDesignMatrixProcessingSpecification(\n",
    "    wt_normalization=False,\n",
    "    total_normalization=True,\n",
    "    sigma_scale_normalized=True,\n",
    "    decay_sigma_scale=True,\n",
    "    K_enriched=5,\n",
    "    K_baseline=5,\n",
    "    a_parameter=0.0001, #0.0001\n",
    "    set_offset_as_presort = True,\n",
    "    offset_normalized = False,\n",
    "    offset_psuedocount = 1\n",
    ")\n",
    "\n",
    "millipede_model_specification_set = {\n",
    "    \"joint_replicate_per_experiment_models\" : cmm.MillipedeModelSpecification(\n",
    "        model_types=[cmm.MillipedeModelType.NORMAL_SIGMA_SCALED, cmm.MillipedeModelType.NORMAL],\n",
    "        replicate_merge_strategy=cmm.MillipedeReplicateMergeStrategy.COVARIATE,\n",
    "        experiment_merge_strategy=cmm.MillipedeExperimentMergeStrategy.SEPARATE,\n",
    "        S = 5,\n",
    "        tau = 0.01,\n",
    "        tau_intercept = 0.0001,\n",
    "        cutoff_specification=cmm.MillipedeCutoffSpecification(\n",
    "            per_replicate_each_condition_num_cutoff = 0, \n",
    "            per_replicate_all_condition_num_cutoff = 1, \n",
    "            all_replicate_num_cutoff = 0, \n",
    "            all_experiment_num_cutoff = 0,\n",
    "            baseline_pop_all_condition_each_replicate_num_cutoff = 3,\n",
    "            baseline_pop_all_condition_acceptable_rep_count = 2,\n",
    "            enriched_pop_all_condition_each_replicate_num_cutoff = 3,\n",
    "            enriched_pop_all_condition_acceptable_rep_count = 2,\n",
    "            presort_pop_all_condition_each_replicate_num_cutoff = 3,\n",
    "            presort_pop_all_condition_acceptable_rep_count = 2,\n",
    "            \n",
    "        ),\n",
    "        design_matrix_processing_specification=design_matrix_spec\n",
    "    )\n",
    "}"
   ]
  },
  {
   "cell_type": "code",
   "execution_count": 32,
   "id": "bac7b0cf",
   "metadata": {},
   "outputs": [
    {
     "name": "stdout",
     "output_type": "stream",
     "text": [
      "Performing initial input validation checks...\n",
      "Passed validation.\n",
      "Retrieving data for\n",
      "\tReplicate Merge Strategy: MillipedeReplicateMergeStrategy.COVARIATE \n",
      "\tExperiment Merge Strategy MillipedeExperimentMergeStrategy.SEPARATE\n",
      "\tCutoff: \n",
      "                    per_replicate_each_condition_num_cutoff=0, \n",
      "                    per_replicate_presort_condition_num_cutoff=0, \n",
      "                    per_replicate_all_condition_num_cutoff=1, \n",
      "                    all_replicate_num_cutoff=0, \n",
      "                    all_experiment_num_cutoff=0, \n",
      "                    baseline_pop_per_condition_acceptable_rep_count=0, \n",
      "                    baseline_pop_per_condition_acceptable_rep_count=0, \n",
      "                    baseline_pop_per_condition_acceptable_rep_count=0,\n",
      "                    enriched_pop_per_condition_each_replicate_num_cutoff=0,\n",
      "                    enriched_pop_per_condition_acceptable_rep_count=0,\n",
      "                    presort_pop_per_condition_each_replicate_num_cutoff=0,\n",
      "                    presort_pop_per_condition_acceptable_rep_count=0,\n",
      "                    baseline_pop_all_condition_each_replicate_num_cutoff=3,\n",
      "                    baseline_pop_all_condition_acceptable_rep_count=2,\n",
      "                    enriched_pop_all_condition_each_replicate_num_cutoff=3,\n",
      "                    enriched_pop_all_condition_acceptable_rep_count=2,\n",
      "                    presort_pop_all_condition_each_replicate_num_cutoff=3,\n",
      "                    presort_pop_all_condition_acceptable_rep_count=2\n",
      "\tMatrixProcessing: wt_normalization=False;total_normalization=True;sigma_scale_normalized=True;decay_sigma_scale=True;K_enriched=5;K_baseline=5;a_parameter=0.0001; set_offset_as_default=False, set_offset_as_total_reads=False, set_offset_as_enriched=False, set_offset_as_baseline=False, set_offset_as_presort=True, offset_normalized=False, offset_psuedocount=1\n",
      "Running all-condition filtering with enriched_num_cutoff=3, enriched_acceptable_rep_count=2, baseline_num_cutoff=3, baseline_acceptable_rep_count=2, presort_num_cutoff=3, presort_acceptable_rep_count=2\n"
     ]
    }
   ],
   "source": [
    "# Load in the encoding data - UPDATE WITH YOUR OWN FILEPATHS and UPDATE SUFFIXES with what was specified in the encoding step\n",
    "paired_end_experiments_inputdata_denoised = cmm.MillipedeInputDataExperimentalGroup(\n",
    "    data_directory=\"./\", \n",
    "    enriched_pop_fn_experiment_list = [\"20240905_v0_1_89_sg219_encoding_dataframes_variantdenoised_removed_CRISPResso2Merged_trimmed_ABE8e_encodings_rep{}.tsv\"],\n",
    "    enriched_pop_df_reads_colname = \"#Reads_CD19minus\",\n",
    "    baseline_pop_fn_experiment_list = [\"20240905_v0_1_89_sg219_encoding_dataframes_variantdenoised_removed_CRISPResso2Merged_trimmed_ABE8e_encodings_rep{}.tsv\"],\n",
    "    baseline_pop_df_reads_colname = \"#Reads_CD19plus\", \n",
    "    presort_pop_fn_experiment_list = [\"20240905_v0_1_89_sg219_encoding_dataframes_variantdenoised_removed_CRISPResso2Merged_trimmed_ABE8e_encodings_rep{}.tsv\"],\n",
    "    presort_pop_df_reads_colname = '#Reads_presort',\n",
    "    experiment_labels = [\"EvoCDA\"],\n",
    "    reps = [0,1,2],\n",
    "    millipede_model_specification_set = millipede_model_specification_set\n",
    "   )\n"
   ]
  },
  {
   "cell_type": "markdown",
   "id": "24b381cc",
   "metadata": {},
   "source": [
    "## Run Millipede"
   ]
  },
  {
   "cell_type": "code",
   "execution_count": 36,
   "id": "36b65692",
   "metadata": {},
   "outputs": [
    {
     "name": "stdout",
     "output_type": "stream",
     "text": [
      "Start model inference for all provided model specifications: 1 total\n",
      "Starting model inference for model specification id 1/1: joint_replicate_per_experiment_models\n",
      "Number of single matrices: 1\n",
      "With 2 model types, the total models to inference for this model specification: 2\n",
      "Running model(s) for single matrix index: 1/1\n",
      "Iterating through all 2 provided models: \n",
      "Preparing data for model NORMAL_SIGMA_SCALED, 1/2\n",
      "Running model NORMAL_SIGMA_SCALED\n"
     ]
    },
    {
     "data": {
      "application/vnd.jupyter.widget-view+json": {
       "model_id": "1e06303f9a44456cabcabdb7757de31a",
       "version_major": 2,
       "version_minor": 0
      },
      "text/plain": [
       "  0%|          | 0/5500 [00:00<?, ?it/s]"
      ]
     },
     "metadata": {},
     "output_type": "display_data"
    },
    {
     "name": "stdout",
     "output_type": "stream",
     "text": [
      "Preparing data for model NORMAL, 2/2\n",
      "Running model NORMAL\n"
     ]
    },
    {
     "data": {
      "application/vnd.jupyter.widget-view+json": {
       "model_id": "6116caede01049e58ff656fa794aec89",
       "version_major": 2,
       "version_minor": 0
      },
      "text/plain": [
       "  0%|          | 0/5500 [00:00<?, ?it/s]"
      ]
     },
     "metadata": {},
     "output_type": "display_data"
    },
    {
     "name": "stdout",
     "output_type": "stream",
     "text": [
      "CPU times: user 41.1 s, sys: 5.08 s, total: 46.2 s\n",
      "Wall time: 44 s\n"
     ]
    }
   ],
   "source": [
    "%%time\n",
    "from crispr_millipede import encoding as cme\n",
    "from crispr_millipede import modelling as cmm\n",
    "\n",
    "# Run Millipede on the GPU, could also run on CPU by setting device=cmm.MillipedeComputeDevice.CPU \n",
    "paired_end_experiments_models_denoised = cmm.MillipedeModelExperimentalGroup(experiments_inputdata=paired_end_experiments_inputdata_denoised, device=cmm.MillipedeComputeDevice.GPU)"
   ]
  },
  {
   "cell_type": "code",
   "execution_count": 37,
   "id": "d7299016",
   "metadata": {},
   "outputs": [
    {
     "data": {
      "text/plain": [
       "224A>G                 0.209907\n",
       "230A>G                 0.148859\n",
       "220A>G                 0.033779\n",
       "223A>G                 0.028854\n",
       "intercept_exp0_rep1    0.018781\n",
       "254T>C                 0.007677\n",
       "127T>C                 0.003882\n",
       "62T>C                  0.003430\n",
       "131T>C                 0.002730\n",
       "103T>C                 0.002116\n",
       "205T>C                 0.002107\n",
       "206T>C                 0.002033\n",
       "151A>G                 0.001842\n",
       "186A>G                 0.001029\n",
       "190A>G                 0.001022\n",
       "324A>G                 0.000917\n",
       "126A>G                 0.000788\n",
       "40A>G                  0.000769\n",
       "107T>C                 0.000718\n",
       "117T>C                 0.000708\n",
       "158A>G                 0.000620\n",
       "113T>C                 0.000560\n",
       "54A>G                  0.000499\n",
       "199T>C                 0.000494\n",
       "23T>C                  0.000485\n",
       "234T>C                 0.000468\n",
       "237T>C                 0.000466\n",
       "56A>G                  0.000398\n",
       "316T>C                 0.000376\n",
       "217A>G                 0.000375\n",
       "176T>C                 0.000368\n",
       "51T>C                  0.000359\n",
       "264A>G                 0.000337\n",
       "44A>G                  0.000330\n",
       "79A>G                  0.000320\n",
       "297T>C                 0.000297\n",
       "69T>C                  0.000293\n",
       "319A>G                 0.000264\n",
       "124T>C                 0.000242\n",
       "85T>C                  0.000220\n",
       "Name: Coefficient, dtype: float64"
      ]
     },
     "metadata": {},
     "output_type": "display_data"
    },
    {
     "data": {
      "text/plain": [
       "230A>G    0.999791\n",
       "224A>G    0.999740\n",
       "220A>G    0.198396\n",
       "223A>G    0.190419\n",
       "289A>G    0.041748\n",
       "50T>C     0.027256\n",
       "278T>C    0.023368\n",
       "283T>C    0.022754\n",
       "254T>C    0.018422\n",
       "320A>G    0.017792\n",
       "72A>G     0.014070\n",
       "159A>G    0.012914\n",
       "252A>G    0.012600\n",
       "62T>C     0.012524\n",
       "241A>G    0.012191\n",
       "131T>C    0.011368\n",
       "242T>C    0.010919\n",
       "206T>C    0.008406\n",
       "186A>G    0.008302\n",
       "127T>C    0.007964\n",
       "151A>G    0.007871\n",
       "103T>C    0.007321\n",
       "199T>C    0.007296\n",
       "205T>C    0.007291\n",
       "276T>C    0.006153\n",
       "117T>C    0.006033\n",
       "190A>G    0.005450\n",
       "194T>C    0.005402\n",
       "279T>C    0.005028\n",
       "126A>G    0.004928\n",
       "158A>G    0.004785\n",
       "77A>G     0.004575\n",
       "302A>G    0.004569\n",
       "183T>C    0.004500\n",
       "91T>C     0.004485\n",
       "324A>G    0.004426\n",
       "226T>C    0.004368\n",
       "160A>G    0.004351\n",
       "237T>C    0.004236\n",
       "308T>C    0.004189\n",
       "Name: PIP, dtype: float64"
      ]
     },
     "metadata": {},
     "output_type": "display_data"
    }
   ],
   "source": [
    "beta_df = paired_end_experiments_models_denoised.millipede_model_specification_set_with_results['joint_replicate_per_experiment_models'].millipede_model_specification_result_input[0].millipede_model_specification_single_matrix_result[cmm.MillipedeModelType.NORMAL_SIGMA_SCALED].beta\n",
    "pip_df = paired_end_experiments_models_denoised.millipede_model_specification_set_with_results['joint_replicate_per_experiment_models'].millipede_model_specification_result_input[0].millipede_model_specification_single_matrix_result[cmm.MillipedeModelType.NORMAL_SIGMA_SCALED].pip\n",
    "display(beta_df.sort_values(ascending=False).head(40))\n",
    "display(pip_df.sort_values(ascending=False).head(40))"
   ]
  },
  {
   "cell_type": "code",
   "execution_count": 153,
   "id": "8887d5bc",
   "metadata": {},
   "outputs": [
    {
     "data": {
      "text/plain": [
       "intercept_exp0_rep1    0.195477\n",
       "218A>G                 0.026805\n",
       "224A>G                 0.025688\n",
       "220A>G                 0.021099\n",
       "Intercept              0.008955\n",
       "223A>G                 0.007805\n",
       "228A>G                 0.001056\n",
       "226T>C                -0.000827\n",
       "intercept_exp0_rep0   -0.063569\n",
       "intercept_exp0_rep2   -0.130239\n",
       "Name: Coefficient, dtype: float64"
      ]
     },
     "metadata": {},
     "output_type": "display_data"
    },
    {
     "data": {
      "text/plain": [
       "218A>G    0.162961\n",
       "224A>G    0.151067\n",
       "220A>G    0.130310\n",
       "223A>G    0.066543\n",
       "226T>C    0.032389\n",
       "228A>G    0.024483\n",
       "Name: PIP, dtype: float64"
      ]
     },
     "metadata": {},
     "output_type": "display_data"
    }
   ],
   "source": [
    "beta_df = paired_end_experiments_models_denoised.millipede_model_specification_set_with_results['joint_replicate_per_experiment_models'].millipede_model_specification_result_input[0].millipede_model_specification_single_matrix_result[cmm.MillipedeModelType.NORMAL].beta\n",
    "pip_df = paired_end_experiments_models_denoised.millipede_model_specification_set_with_results['joint_replicate_per_experiment_models'].millipede_model_specification_result_input[0].millipede_model_specification_single_matrix_result[cmm.MillipedeModelType.NORMAL].pip\n",
    "display(beta_df.sort_values(ascending=False).head(40))\n",
    "display(pip_df.sort_values(ascending=False).head(40))"
   ]
  },
  {
   "cell_type": "code",
   "execution_count": 38,
   "id": "6b5a59aa",
   "metadata": {},
   "outputs": [],
   "source": [
    "sigma_hit_table = paired_end_experiments_models_denoised.millipede_model_specification_set_with_results[\"joint_replicate_per_experiment_models\"].millipede_model_specification_result_input[0].millipede_model_specification_single_matrix_result[cmm.MillipedeModelType.NORMAL_SIGMA_SCALED].summary\n",
    "sigma_hit_table.to_csv('CD19_sg218_sigma_hit_table_ZPV2.csv', index=True)"
   ]
  }
 ],
 "metadata": {
  "kernelspec": {
   "display_name": "Python [conda env:MilliV2]",
   "language": "python",
   "name": "conda-env-MilliV2-py"
  },
  "language_info": {
   "codemirror_mode": {
    "name": "ipython",
    "version": 3
   },
   "file_extension": ".py",
   "mimetype": "text/x-python",
   "name": "python",
   "nbconvert_exporter": "python",
   "pygments_lexer": "ipython3",
   "version": "3.10.14"
  }
 },
 "nbformat": 4,
 "nbformat_minor": 5
}
