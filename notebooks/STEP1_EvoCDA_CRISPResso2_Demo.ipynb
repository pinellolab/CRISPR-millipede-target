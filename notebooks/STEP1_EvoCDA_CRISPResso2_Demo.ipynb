{
 "cells": [
  {
   "cell_type": "markdown",
   "id": "e19a8ef9-0633-42ce-b190-cee525afd314",
   "metadata": {},
   "source": [
    "# Run CRISPResso2 on EvoCDA Pooled Data"
   ]
  },
  {
   "cell_type": "markdown",
   "id": "ff70fa6d-71c8-4fca-b521-7258d4f53fcf",
   "metadata": {},
   "source": [
    "### Import Packages"
   ]
  },
  {
   "cell_type": "code",
   "execution_count": null,
   "id": "3cdad491",
   "metadata": {},
   "outputs": [],
   "source": [
    "import pandas as pd\n",
    "import os\n",
    "from Bio import SeqIO\n",
    "from Bio.Seq import Seq"
   ]
  },
  {
   "cell_type": "markdown",
   "id": "77706308-f600-449c-83c4-284d145ad58d",
   "metadata": {},
   "source": [
    "### Download Data\n",
    "\n",
    "As an example, download the EvoCDA endogenous data from GEO that was used in the CRISPR-CLEAR manuscript: [GSE278581](https://www.ncbi.nlm.nih.gov/geo/query/acc.cgi?acc=GSE278581)\n",
    "\n",
    "\n",
    "\n",
    "- GSM8549757\tevoCDA, replicate 1, presort, pooled, endogenous\n",
    "- GSM8549758\tevoCDA, replicate 1, CD19 positive, pooled, endogenous\n",
    "- GSM8549759\tevoCDA, replicate 1, CD19 negative, pooled, endogenous\n",
    "- GSM8549760\tevoCDA, replicate 2, presort, pooled, endogenous\n",
    "- GSM8549761\tevoCDA, replicate 2, CD19 positive, pooled, endogenous\n",
    "- GSM8549762\tevoCDA, replicate 2, CD19 negative, pooled, endogenous\n",
    "- GSM8549763\tevoCDA, replicate 3, presort, pooled, endogenous\n",
    "- GSM8549764\tevoCDA, replicate 3, CD19 positive, pooled, endogenous\n",
    "- GSM8549765\tevoCDA, replicate 3, CD19 negative, pooled, endogenous\n",
    "- GSM8549766\tevoCDA, unedited, pooled, endogenous\n",
    "\n",
    "You can alternatively download the data from [Zenodo](https://doi.org/10.5281/zenodo.13737880) which may be easier: Unzip the file CRISPR-CLEAR-data/data/raw_FASTQs/endogenous_sequencing/EvoCDA_pooled.zip\n",
    "\n"
   ]
  },
  {
   "cell_type": "markdown",
   "id": "922e4ee7",
   "metadata": {},
   "source": [
    "### Prepare sample sheet for EvoCDA data"
   ]
  },
  {
   "cell_type": "code",
   "execution_count": null,
   "id": "49c4125f",
   "metadata": {},
   "outputs": [],
   "source": [
    "# Set the directory of the downloaded data, replace with your directory\n",
    "unmerged_all_dir = \"/data/pinello/PROJECTS/2021_11_BB_Shared_Tiling_Screen_Analysis/20220504_Davide_pilot_BE_analysis/Base_editors_screen_data/\""
   ]
  },
  {
   "cell_type": "code",
   "execution_count": null,
   "id": "4bcffea8",
   "metadata": {},
   "outputs": [],
   "source": [
    "# OPTIONAL: In all filenames, need to replace '#' character with '_' to allow correct parsing of filename in CRISPResso2\n",
    "def replicate_hashtag(directory_path):\n",
    "    print(directory_path)\n",
    "    file_list = os.listdir(directory_path)\n",
    "    for filename in file_list:\n",
    "        # Check if the '#' character is present in the filename\n",
    "        if '#' in filename:\n",
    "            # Replace '#' with '_'\n",
    "            new_filename = filename.replace('#', '_')\n",
    "\n",
    "            # Create the full old and new file paths\n",
    "            old_file_path = os.path.join(directory_path, filename)\n",
    "            new_file_path = os.path.join(directory_path, new_filename)\n",
    "\n",
    "            # Rename the file\n",
    "            os.rename(old_file_path, new_file_path)\n",
    "            print('Renamed: {} to {}'.format(filename, new_filename))\n",
    "            \n",
    "replicate_hashtag(unmerged_all_dir)"
   ]
  },
  {
   "cell_type": "code",
   "execution_count": null,
   "id": "55da7c0f",
   "metadata": {},
   "outputs": [],
   "source": [
    "# Get filenames from directory\n",
    "unmerged_all_fns = os.listdir(unmerged_all_dir)"
   ]
  },
  {
   "cell_type": "code",
   "execution_count": null,
   "id": "e282ebab",
   "metadata": {},
   "outputs": [],
   "source": [
    "unmerged_all_fns"
   ]
  },
  {
   "cell_type": "code",
   "execution_count": null,
   "id": "93ba21b5",
   "metadata": {},
   "outputs": [],
   "source": [
    "# Get the R1 and R2 files\n",
    "r1_unmerged_fastq = [fn for fn in unmerged_all_fns if (\"R1\" in fn and \"EvoCDA\" in fn and \"gz\" in fn and \"m7\" not in fn)]\n",
    "r2_unmerged_fastq = [fn for fn in unmerged_all_fns if (\"R2\" in fn and \"EvoCDA\" in fn and \"gz\" in fn and \"m7\" not in fn)]"
   ]
  },
  {
   "cell_type": "code",
   "execution_count": null,
   "id": "233a52a0",
   "metadata": {},
   "outputs": [],
   "source": [
    "r1_unmerged_fastq"
   ]
  },
  {
   "cell_type": "code",
   "execution_count": null,
   "id": "0ba3ba87",
   "metadata": {},
   "outputs": [],
   "source": [
    "r2_unmerged_fastq "
   ]
  },
  {
   "cell_type": "code",
   "execution_count": null,
   "id": "c18fbd75",
   "metadata": {},
   "outputs": [],
   "source": [
    "# Sort the R1 and R2 files so that corresponding files are in same list index\n",
    "r1_unmerged_fastq = sorted(r1_unmerged_fastq)\n",
    "r2_unmerged_fastq = sorted(r2_unmerged_fastq)"
   ]
  },
  {
   "cell_type": "code",
   "execution_count": null,
   "id": "2da4d277",
   "metadata": {},
   "outputs": [],
   "source": [
    "r1_unmerged_fastq.append('DS_AK_NALM6_BEscreen_WT_1_presort_S1_L001_R1_001.fastq.gz')\n",
    "r2_unmerged_fastq.append('DS_AK_NALM6_BEscreen_WT_1_presort_S1_L001_R2_001.fastq.gz')"
   ]
  },
  {
   "cell_type": "code",
   "execution_count": null,
   "id": "085e3738",
   "metadata": {},
   "outputs": [],
   "source": [
    "# Prepare the sample metadata values\n",
    "editors_list = [\"evoCDA\"] * 9 + [\"no_editor\"]\n",
    "population_list = [\"low\", \"high\", \"presort\"] * 3 + [\"presort\"] \n",
    "replicate_list = [1] * 3 + [2] * 3 + [3] * 3 + [1]\n",
    "experiment_list = [\"evoCDA_pooled\"] * 9 + [\"mock\"]"
   ]
  },
  {
   "cell_type": "code",
   "execution_count": null,
   "id": "2dce053a",
   "metadata": {},
   "outputs": [],
   "source": [
    "# Create dataframe from metadata files and save sample sheet\n",
    "sample_sheet_df = pd.DataFrame({\n",
    "    \"editors\": editors_list,\n",
    "    \"population\": population_list,\n",
    "    \"replicate\": replicate_list,\n",
    "    \"experiment\": experiment_list,\n",
    "    \"R1_FASTQ\": r1_unmerged_fastq,\n",
    "    \"R2_FASTQ\": r2_unmerged_fastq\n",
    "})\n",
    "\n",
    "sample_sheet_df = sample_sheet_df.loc[:, [\"editors\", \"population\", \"replicate\", \"experiment\", \"R1_FASTQ\", \"R2_FASTQ\"]]\n",
    "sample_sheet_df.to_csv(\"/data/pinello/PROJECTS/2024_01_EC_Crispresso_Millipede_Reporting/CD19/Metadata/20230922_evoCDA_sample_sheet.tsv\", sep=\"\\t\")"
   ]
  },
  {
   "cell_type": "code",
   "execution_count": null,
   "id": "bc5bd064",
   "metadata": {},
   "outputs": [],
   "source": [
    "sample_sheet_df"
   ]
  },
  {
   "cell_type": "markdown",
   "id": "396a800b",
   "metadata": {},
   "source": [
    "### Read in guide sequences"
   ]
  },
  {
   "cell_type": "code",
   "execution_count": null,
   "id": "665a4e85",
   "metadata": {},
   "outputs": [],
   "source": [
    "# Read in the guide library file (contain in the repository), replace with filepath:\n",
    "pooled_guide_sequence_df = pd.read_table(\"/data/pinello/PROJECTS/2023_08_CD19_manuscript/Core_Data/CD19_sgRNA_count_libraries_DS.txt\")\n",
    "pooled_guide_sequence_df.columns = [col.strip() for col in pooled_guide_sequence_df.columns]\n",
    "pooled_guide_sequences = [str(val) for val in pooled_guide_sequence_df[\"sgRNA\"].values.tolist()]"
   ]
  },
  {
   "cell_type": "code",
   "execution_count": null,
   "id": "f701337d",
   "metadata": {},
   "outputs": [],
   "source": [
    "pooled_guide_sequences"
   ]
  },
  {
   "cell_type": "markdown",
   "id": "88ff7dd7",
   "metadata": {},
   "source": [
    "## Run CRISPRessoBatch"
   ]
  },
  {
   "cell_type": "markdown",
   "id": "252797e2",
   "metadata": {},
   "source": [
    "Prepare amplicon sequence and guide list"
   ]
  },
  {
   "cell_type": "code",
   "execution_count": null,
   "id": "4ed500ee",
   "metadata": {},
   "outputs": [],
   "source": [
    "# Set the amplicon sequence and filter for guides that are fully present within the sequence (may remove guides on the edges depending on amplicon)\n",
    "pooled_amplicon_sequence = Seq(\"ACATGCTCTAGTGAAAGCCAGTCTGGGCAGCTGGGTAGCTAATGAGGGGATTAGAGAGATTTTGTTGAATGAAAGGCAGATTGAGTCCTGCTACTCGCCCCCTTCATTCCCCTTCATTCATGCCTCATTCTTCCGCCTCCCAGCCGCCTCAACTGGCCAAAGGGAAGTGGAGGCCCTGCCACCTGTAGGGAGGGTCCCCTGGGGCTTGCCCACAGCAAACAGGAAGTCACAGCCTGGTGAGATGGGCCTGGGAATCAGCCACTGAGAAAGTGGGTCTCTTGGGTCCCTGAATTCTTTTTCTGAGTCCCTGCAGCAGTGAAAAAGACACAGAGGCACATAGAGAGTG\")\n",
    "\n",
    "pooled_amplicon_sequence_revcomp = pooled_amplicon_sequence.reverse_complement() \n",
    "pooled_amplicon_sequence = str(pooled_amplicon_sequence)\n",
    "pooled_amplicon_sequence_revcomp = str(pooled_amplicon_sequence_revcomp)\n",
    "\n",
    "guide_sequences_present = [seq for seq in pooled_guide_sequences if ((seq in pooled_amplicon_sequence) or (seq in pooled_amplicon_sequence_revcomp))]\n",
    "\n",
    "# For visualization purposes, set a guide that is in the middle of the amplicon (does not need to be exact)\n",
    "pooled_middle_guide = \"GAGGCCCTGCCACCTGTAGG\" # For the merged read\n",
    "r1_middle_guide = \"ATTCATGCCTCATTCTTCCG\" # For the R1 read\n",
    "r2_middle_guide = \"ACAGCAAACAGGAAGTCACA\" # For the R2 read"
   ]
  },
  {
   "cell_type": "code",
   "execution_count": null,
   "id": "72c20d9e",
   "metadata": {},
   "outputs": [],
   "source": [
    "guide_sequences_present"
   ]
  },
  {
   "cell_type": "code",
   "execution_count": null,
   "id": "72b1e44f",
   "metadata": {},
   "outputs": [],
   "source": [
    "print(\"There are {} guides present in amplicon sequence out of {}\".format(len(guide_sequences_present), len(pooled_guide_sequences)))"
   ]
  },
  {
   "cell_type": "markdown",
   "id": "023276d7",
   "metadata": {},
   "source": [
    "Prepare filenames"
   ]
  },
  {
   "cell_type": "code",
   "execution_count": null,
   "id": "de23c527",
   "metadata": {},
   "outputs": [],
   "source": [
    "# Prepare R1 and R2 FASTQ files for CRISPResso2Batch settings file\n",
    "filenames_single_end_dir = \"/data/pinello/PROJECTS/2021_11_BB_Shared_Tiling_Screen_Analysis/20220504_Davide_pilot_BE_analysis/Base_editors_screen_data/\"\n",
    "\n",
    "names = sample_sheet_df[\"experiment\"].str.cat(sample_sheet_df[[\"population\", \"replicate\"]].astype(str), sep=\"_\")\n",
    "sample_sheet_df[\"names\"] = names\n",
    "filenames_R1 = filenames_single_end_dir + sample_sheet_df[\"R1_FASTQ\"]\n",
    "filenames_R2 = filenames_single_end_dir + sample_sheet_df[\"R2_FASTQ\"] "
   ]
  },
  {
   "cell_type": "code",
   "execution_count": null,
   "id": "b596c4d9",
   "metadata": {},
   "outputs": [],
   "source": [
    "for fn in filenames_R1:\n",
    "    print(fn)"
   ]
  },
  {
   "cell_type": "markdown",
   "id": "78cc3b66",
   "metadata": {},
   "source": [
    "Create settings files for pooled screen"
   ]
  },
  {
   "cell_type": "code",
   "execution_count": null,
   "id": "48f806b7",
   "metadata": {},
   "outputs": [],
   "source": [
    "# Prepare sample names that will be batched\n",
    "pooled_names_enumeration = [(index, name) for index, name in enumerate(names) if (\"pooled\" in name) or (\"mock_presort_1\" in name)]"
   ]
  },
  {
   "cell_type": "code",
   "execution_count": null,
   "id": "b0da8f2d",
   "metadata": {},
   "outputs": [],
   "source": [
    "pooled_names_enumeration"
   ]
  },
  {
   "cell_type": "code",
   "execution_count": null,
   "id": "b943be5c",
   "metadata": {},
   "outputs": [],
   "source": [
    "# Create directory for all the different settings file\n",
    "settings_output_dir = \"./20240122_CRISPResso2Batch_Settings\""
   ]
  },
  {
   "cell_type": "code",
   "execution_count": null,
   "id": "10759a94",
   "metadata": {},
   "outputs": [],
   "source": [
    "# Create and write the settings files\n",
    "evoCDA_pooled_unmerged_PE_settings_fn = 'Davide_CD19_enhancer_BE_screen_evoCDA_pooled_unmerged_PE.settings'\n",
    "evoCDA_pooled_unmerged_PE_middle_settings_fn = 'Davide_CD19_enhancer_BE_screen_evoCDA_pooled_unmerged_PE_middle.settings'\n",
    "\n",
    "evoCDA_pooled_unmerged_R1_settings_fn = 'Davide_CD19_enhancer_BE_screen_evoCDA_pooled_unmerged_R1.settings'\n",
    "evoCDA_pooled_unmerged_R1_middle_settings_fn = 'Davide_CD19_enhancer_BE_screen_evoCDA_pooled_unmerged_R1_middle.settings'\n",
    "\n",
    "evoCDA_pooled_unmerged_R2_settings_fn = 'Davide_CD19_enhancer_BE_screen_evoCDA_pooled_unmerged_R2.settings'\n",
    "evoCDA_pooled_unmerged_R2_middle_settings_fn = 'Davide_CD19_enhancer_BE_screen_evoCDA_pooled_unmerged_R2_middle.settings'\n",
    "\n",
    "# Un-merged settings (Provide both R1 and R2, CRISPResso2 will do merging)\n",
    "with open(settings_output_dir + \"/\" + evoCDA_pooled_unmerged_PE_settings_fn, 'w') as out_handle:\n",
    "    out_handle.write('name\\tfastq_r1\\tfastq_r2\\tguide_seq\\n')\n",
    "    for sample_index, _ in pooled_names_enumeration:\n",
    "        out_handle.write('sample_%s\\t%s\\t%s\\t%s\\n' % (names[sample_index], filenames_R1[sample_index],filenames_R2[sample_index], \",\".join(guide_sequences_present)))\n",
    "\n",
    "with open(settings_output_dir + \"/\" + evoCDA_pooled_unmerged_PE_middle_settings_fn, 'w') as out_handle:\n",
    "    out_handle.write('name\\tfastq_r1\\tfastq_r2\\tguide_seq\\n')\n",
    "    for sample_index, _ in pooled_names_enumeration:\n",
    "        out_handle.write('sample_%s\\t%s\\t%s\\t%s\\n' % (names[sample_index], filenames_R1[sample_index], filenames_R2[sample_index], pooled_middle_guide))\n",
    "\n",
    "# R1 settings (only provide R1, no merging)\n",
    "with open(settings_output_dir + \"/\" + evoCDA_pooled_unmerged_R1_settings_fn, 'w') as out_handle:\n",
    "    out_handle.write('name\\tfastq_r1\\tguide_seq\\n')\n",
    "    for sample_index, _ in pooled_names_enumeration:\n",
    "        out_handle.write('sample_%s\\t%s\\t%s\\n' % (names[sample_index], filenames_R1[sample_index],\",\".join(guide_sequences_present)))\n",
    "\n",
    "with open(settings_output_dir + \"/\" + evoCDA_pooled_unmerged_R1_middle_settings_fn, 'w') as out_handle:\n",
    "    out_handle.write('name\\tfastq_r1\\tguide_seq\\n')\n",
    "    for sample_index, _ in pooled_names_enumeration:\n",
    "        out_handle.write('sample_%s\\t%s\\t%s\\n' % (names[sample_index], filenames_R1[sample_index], r1_middle_guide))\n",
    "\n",
    "# R2 settings (only provide R2, no merging)\n",
    "with open(settings_output_dir + \"/\" + evoCDA_pooled_unmerged_R2_settings_fn, 'w') as out_handle:\n",
    "    out_handle.write('name\\tfastq_r1\\tguide_seq\\n')\n",
    "    for sample_index, _ in pooled_names_enumeration:\n",
    "        out_handle.write('sample_%s\\t%s\\t%s\\n' % (names[sample_index], filenames_R2[sample_index],\",\".join(guide_sequences_present)))\n",
    "\n",
    "with open(settings_output_dir + \"/\" + evoCDA_pooled_unmerged_R2_middle_settings_fn, 'w') as out_handle:\n",
    "    out_handle.write('name\\tfastq_r1\\tguide_seq\\n')\n",
    "    for sample_index, _ in pooled_names_enumeration:\n",
    "        out_handle.write('sample_%s\\t%s\\t%s\\n' % (names[sample_index], filenames_R2[sample_index], r2_middle_guide))\n"
   ]
  },
  {
   "cell_type": "markdown",
   "id": "0e918594",
   "metadata": {},
   "source": [
    "Run CRISPResso2Batch"
   ]
  },
  {
   "cell_type": "code",
   "execution_count": null,
   "id": "46da45ac",
   "metadata": {},
   "outputs": [],
   "source": [
    "# Set the directory of all CRISPResso2 outputs\n",
    "root_results_output_dir = \"./20240122_CRISPResso2Batch_Results\"\n",
    "os.makedirs(root_results_output_dir)"
   ]
  },
  {
   "cell_type": "code",
   "execution_count": null,
   "id": "7d3c1100",
   "metadata": {},
   "outputs": [],
   "source": [
    "# Set the directory of CRISPResso2 sub-run outputs\n",
    "results_output_dir = root_results_output_dir + \"/evoCDA_pooled\"\n",
    "\n",
    "evoCDA_pooled_unmerged_PE_results_dir = results_output_dir + \"/unmerged_PE\"\n",
    "evoCDA_pooled_unmerged_PE_middle_results_dir = results_output_dir + \"/unmerged_PE_middle\"\n",
    "\n",
    "evoCDA_pooled_unmerged_R1_results_dir = results_output_dir + \"/unmerged_R1\"\n",
    "evoCDA_pooled_unmerged_R1_middle_results_dir = results_output_dir + \"/unmerged_R1_middle\"\n",
    "\n",
    "evoCDA_pooled_unmerged_R2_results_dir = results_output_dir + \"/unmerged_R2\"\n",
    "evoCDA_pooled_unmerged_R2_middle_results_dir = results_output_dir + \"/unmerged_R2_middle\"\n",
    "\n",
    "\n",
    "os.makedirs(evoCDA_pooled_unmerged_PE_results_dir)\n",
    "os.makedirs(evoCDA_pooled_unmerged_PE_middle_results_dir)\n",
    "\n",
    "os.makedirs(evoCDA_pooled_unmerged_R1_results_dir)\n",
    "os.makedirs(evoCDA_pooled_unmerged_R1_middle_results_dir)\n",
    "\n",
    "os.makedirs(evoCDA_pooled_unmerged_R2_results_dir)\n",
    "os.makedirs(evoCDA_pooled_unmerged_R2_middle_results_dir)"
   ]
  },
  {
   "cell_type": "code",
   "execution_count": null,
   "id": "2717ec6b",
   "metadata": {},
   "outputs": [],
   "source": [
    "# Set the name of each CRISPResso2 run\n",
    "evoCDA_pooled_unmerged_PE_name = \"evoCDA_pooled_unmerged_PE\"\n",
    "evoCDA_pooled_unmerged_PE_middle_name = \"evoCDA_pooled_unmerged_PE_middle\"\n",
    "evoCDA_pooled_unmerged_R1_name = \"evoCDA_pooled_unmerged_R1\"\n",
    "evoCDA_pooled_unmerged_R1_middle_name = \"evoCDA_pooled_unmerged_R1_middle\"\n",
    "evoCDA_pooled_unmerged_R2_name = \"evoCDA_pooled_unmerged_R2\"\n",
    "evoCDA_pooled_unmerged_R2_middle_name = \"evoCDA_pooled_unmerged_R2_middle\""
   ]
  },
  {
   "cell_type": "markdown",
   "id": "5a194c0a-5180-442b-9e2c-6e4813f1d0ae",
   "metadata": {},
   "source": [
    "Run CRISPRessoBatch"
   ]
  },
  {
   "cell_type": "code",
   "execution_count": null,
   "id": "485fdb13",
   "metadata": {},
   "outputs": [],
   "source": [
    "%%time\n",
    "\n",
    "#evoCDA_pooled_unmerged_PE: Run on CRISPResso2 merged R1+R2 for each guide individually\n",
    "!CRISPRessoBatch -bs {settings_output_dir + \"/\" + evoCDA_pooled_unmerged_PE_settings_fn} -a {pooled_amplicon_sequence} \\\n",
    "-an cd19 -q 30 \\\n",
    "--exclude_bp_from_left 3 \\\n",
    "--exclude_bp_from_right 3 --no_rerun -n {evoCDA_pooled_unmerged_PE_name} \\\n",
    "--min_frequency_alleles_around_cut_to_plot 0.001 --max_rows_alleles_around_cut_to_plot 500 -p 64  \\\n",
    "--plot_window_size 4 --base_editor_output -w 0 -bo {evoCDA_pooled_unmerged_PE_results_dir}"
   ]
  },
  {
   "cell_type": "code",
   "execution_count": null,
   "id": "9a2415e8",
   "metadata": {},
   "outputs": [],
   "source": [
    "%%time\n",
    "\n",
    "#evoCDA_pooled_unmerged_PE_middle: Run on CRISPResso2 merged R1+R2 for middle guide to view entire amplicon\n",
    "!CRISPRessoBatch -bs {settings_output_dir + \"/\" + evoCDA_pooled_unmerged_PE_middle_settings_fn} -a {pooled_amplicon_sequence} \\\n",
    "-an cd19 -q 30 \\\n",
    "--exclude_bp_from_left 3 \\\n",
    "--exclude_bp_from_right 3 --no_rerun -n {evoCDA_pooled_unmerged_PE_middle_name} \\\n",
    "--min_frequency_alleles_around_cut_to_plot 0.001 --max_rows_alleles_around_cut_to_plot 500 -p 64  \\\n",
    "--plot_window_size 85 --base_editor_output -w 0 -bo {evoCDA_pooled_unmerged_PE_middle_results_dir}"
   ]
  },
  {
   "cell_type": "code",
   "execution_count": null,
   "id": "0b770c81",
   "metadata": {},
   "outputs": [],
   "source": [
    "%%time\n",
    "\n",
    "#evoCDA_pooled_unmerged_R1: Run on R1-only for each guide individually\n",
    "!CRISPRessoBatch -bs {settings_output_dir + \"/\" + evoCDA_pooled_unmerged_R1_settings_fn} -a {pooled_amplicon_sequence[:250]} \\\n",
    "-an cd19 -q 30 \\\n",
    "--exclude_bp_from_left 3 \\\n",
    "--exclude_bp_from_right 3 --no_rerun -n {evoCDA_pooled_unmerged_R1_name} \\\n",
    "--min_frequency_alleles_around_cut_to_plot 0.001 --max_rows_alleles_around_cut_to_plot 500 -p 64  \\\n",
    "--plot_window_size 4 --base_editor_output -w 0 -bo {evoCDA_pooled_unmerged_R1_results_dir}"
   ]
  },
  {
   "cell_type": "code",
   "execution_count": null,
   "id": "c4f914cc",
   "metadata": {},
   "outputs": [],
   "source": [
    "%%time\n",
    "\n",
    "#evoCDA_pooled_unmerged_R1_middle: Run on R1-only for middle guide to view entire amplicon\n",
    "!CRISPRessoBatch -bs {settings_output_dir + \"/\" + evoCDA_pooled_unmerged_R1_middle_settings_fn} -a {pooled_amplicon_sequence[:250]} \\\n",
    "-an cd19 -q 30 \\\n",
    "--exclude_bp_from_left 3 \\\n",
    "--exclude_bp_from_right 3 --no_rerun -n {evoCDA_pooled_unmerged_R1_middle_name} \\\n",
    "--min_frequency_alleles_around_cut_to_plot 0.001 --max_rows_alleles_around_cut_to_plot 500 -p 64  \\\n",
    "--plot_window_size 42 --base_editor_output -w 0 -bo {evoCDA_pooled_unmerged_R1_middle_results_dir}"
   ]
  },
  {
   "cell_type": "code",
   "execution_count": null,
   "id": "0c365326",
   "metadata": {},
   "outputs": [],
   "source": [
    "%%time\n",
    "\n",
    "#evoCDA_pooled_unmerged_R2: Run on R2-only for each guide individually\n",
    "!CRISPRessoBatch -bs {settings_output_dir + \"/\" + evoCDA_pooled_unmerged_R2_settings_fn} -a {pooled_amplicon_sequence[-250:]} \\\n",
    "-an cd19 -q 30 \\\n",
    "--exclude_bp_from_left 3 \\\n",
    "--exclude_bp_from_right 3 --no_rerun -n {evoCDA_pooled_unmerged_R2_name} \\\n",
    "--min_frequency_alleles_around_cut_to_plot 0.001 --max_rows_alleles_around_cut_to_plot 500 -p 64  \\\n",
    "--plot_window_size 4 --base_editor_output -w 0 -bo {evoCDA_pooled_unmerged_R2_results_dir}"
   ]
  },
  {
   "cell_type": "code",
   "execution_count": null,
   "id": "ff7faac8",
   "metadata": {},
   "outputs": [],
   "source": [
    "%%time\n",
    "\n",
    "#evoCDA_pooled_unmerged_R2_middle: Run on R2-only for middle guide to view entire amplicon\n",
    "!CRISPRessoBatch -bs {settings_output_dir + \"/\" + evoCDA_pooled_unmerged_R2_middle_settings_fn} -a {pooled_amplicon_sequence[-250:]} \\\n",
    "-an cd19 -q 30 \\\n",
    "--exclude_bp_from_left 3 \\\n",
    "--exclude_bp_from_right 3 --no_rerun -n {evoCDA_pooled_unmerged_R2_middle_name} \\\n",
    "--min_frequency_alleles_around_cut_to_plot 0.001 --max_rows_alleles_around_cut_to_plot 500 -p 64  \\\n",
    "--plot_window_size 42 --base_editor_output -w 0 -bo {evoCDA_pooled_unmerged_R2_middle_results_dir}"
   ]
  }
 ],
 "metadata": {
  "kernelspec": {
   "display_name": "Python [conda env:crispresso2]",
   "language": "python",
   "name": "conda-env-crispresso2-py"
  },
  "language_info": {
   "codemirror_mode": {
    "name": "ipython",
    "version": 2
   },
   "file_extension": ".py",
   "mimetype": "text/x-python",
   "name": "python",
   "nbconvert_exporter": "python",
   "pygments_lexer": "ipython2",
   "version": "2.7.15"
  }
 },
 "nbformat": 4,
 "nbformat_minor": 5
}
