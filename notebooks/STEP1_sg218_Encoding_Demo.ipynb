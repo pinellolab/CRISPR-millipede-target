{
 "cells": [
  {
   "cell_type": "markdown",
   "id": "70ccefbf",
   "metadata": {},
   "source": [
    "# Encode sg218 Crispresso2 Alleles\n",
    "\n",
    "See notebook STEP4_ABE8e_EvoCDA_Encoding_Demo.ipynb for a full description of instructions"
   ]
  },
  {
   "cell_type": "markdown",
   "id": "4c51e51d",
   "metadata": {},
   "source": [
    "### Install manuscript version of crispr-millipede"
   ]
  },
  {
   "cell_type": "code",
   "execution_count": null,
   "id": "95850220",
   "metadata": {},
   "outputs": [],
   "source": [
    "# Install CRISPR-Millipede\n",
    "reinstall = True\n",
    "if reinstall:    \n",
    "    version = \"0.1.84\"\n",
    "    !pip install --upgrade --no-cache-dir crispr-millipede==$version"
   ]
  },
  {
   "cell_type": "markdown",
   "id": "114671f3",
   "metadata": {},
   "source": [
    "### Download example data:\n",
    "\n",
    "You can use the output of the previous step `STEP3_sg219_Crispresso2_Demo.ipynb`.\n",
    "\n",
    "Or you can use the pre-generated output from [Zenodo](https://doi.org/10.5281/zenodo.13737880) file path: `CRISPR-CLEAR-data/data/crispresso_output/sg218_CRISPResso2_output.zip`. Unzip the file."
   ]
  },
  {
   "cell_type": "markdown",
   "id": "8543d16b",
   "metadata": {},
   "source": [
    "### Imports"
   ]
  },
  {
   "cell_type": "code",
   "execution_count": 1,
   "id": "3fad86fe",
   "metadata": {},
   "outputs": [],
   "source": [
    "%load_ext autoreload\n",
    "%autoreload 2\n",
    "\n",
    "from crispr_millipede import encoding as cme"
   ]
  },
  {
   "cell_type": "code",
   "execution_count": 2,
   "id": "2fd1ec14",
   "metadata": {},
   "outputs": [],
   "source": [
    "import pandas as pd\n",
    "import numpy as np\n",
    "\n",
    "from Bio import SeqIO\n",
    "from Bio.Seq import Seq"
   ]
  },
  {
   "cell_type": "markdown",
   "id": "37657ff4",
   "metadata": {},
   "source": [
    "### Perform encoding"
   ]
  },
  {
   "cell_type": "code",
   "execution_count": 3,
   "id": "9410cd20",
   "metadata": {},
   "outputs": [],
   "source": [
    "# Set the amplicon for encoding - UPDATE THIS WITH YOUR AMPLICON\n",
    "amplicon_sequence = \"ACATGCTCTAGTGAAAGCCAGTCTGGGCAGCTGGGTAGCTAATGAGGGGATTAGAGAGATTTTGTTGAATGAAAGGCAGATTGAGTCCTGCTACTCGCCCCCTTCATTCCCCTTCATTCATGCCTCATTCTTCCGCCTCCCAGCCGCCTCAACTGGCCAAAGGGAAGTGGAGGCCCTGCCACCTGTAGGGAGGGTCCCCTGGGGCTTGCCCACAGCAAACAGGAAGTCACAGCCTGGTGAGATGGGCCTGGGAATCAGCCACTGAGAAAGTGGGTCTCTTGGGTCCCTGAATTCTTTTTCTGAGTCCCTGCAGCAGTGAAAAAGACACAGAGGCACATAGAGAGTG\""
   ]
  },
  {
   "cell_type": "markdown",
   "id": "c2739263",
   "metadata": {},
   "source": [
    "### Prepare encoding parameters"
   ]
  },
  {
   "cell_type": "code",
   "execution_count": 8,
   "id": "7eadb06e",
   "metadata": {},
   "outputs": [],
   "source": [
    "ABE_SNPs = [(\"A\", \"G\"), (\"T\", \"C\")]"
   ]
  },
  {
   "cell_type": "code",
   "execution_count": 9,
   "id": "76dec41b",
   "metadata": {},
   "outputs": [],
   "source": [
    "sg219_sequence = \"ACAGGAAGTCACAGCCTGGT\"\n",
    "sg219_position = [amplicon_sequence.index(sg219_sequence) + 5]"
   ]
  },
  {
   "cell_type": "markdown",
   "id": "a31e2e32",
   "metadata": {},
   "source": [
    "### Prepare sg218 encoding parameters"
   ]
  },
  {
   "cell_type": "code",
   "execution_count": 24,
   "id": "3bf345ea",
   "metadata": {},
   "outputs": [],
   "source": [
    "sg219_encoding_parameters_fulldenoised_removed = cme.EncodingParameters(complete_amplicon_sequence=amplicon_sequence,\n",
    "                            population_baseline_suffix=\"_CD19minus\",\n",
    "                            population_target_suffix=\"_CD19plus\",\n",
    "                            population_presort_suffix=\"_presort\",\n",
    "                            wt_suffix=\"_wt\",\n",
    "                            variant_types = ABE_SNPs,\n",
    "                            guide_edit_positions=sg219_position,\n",
    "                            guide_window_halfsize=5,\n",
    "                            trim_left=20,\n",
    "                            trim_right=20,\n",
    "                            remove_denoised=True)\n"
   ]
  },
  {
   "cell_type": "code",
   "execution_count": 25,
   "id": "0baf8ac3",
   "metadata": {},
   "outputs": [],
   "source": [
    "root_dir = \"/data/pinello/PROJECTS/2023_08_CD19_manuscript/Core_Processing_Analysis/Analysis/ABE8e_Pooled_Endogenous_Redo_AND_ABE8e_sg219_Endogenous_AND_EvoCDA_Hits_Endogenous_CRISPREsso2_Analysis/20231005_v1_CRISPResso2Batch_Results_q30/ABE8e_sg219/unmerged_PE/CRISPRessoBatch_on_ABE8e_sg219_unmerged_PE_middle/\"\n",
    "\n",
    "sg219_encoding_dataframes_fulldenoised_removed = cme.EncodingDataFrames(encoding_parameters=sg219_encoding_parameters_fulldenoised_removed,\n",
    "                                                 reference_sequence=sg219_encoding_parameters_fulldenoised_removed.complete_amplicon_sequence,\n",
    "                                                 population_baseline_filepaths=[root_dir + \"CRISPResso_on_sample_ABE8e_PAX5sg_low_1/Alleles_frequency_table.zip\", \n",
    "                                                                                root_dir + \"CRISPResso_on_sample_ABE8e_PAX5sg_low_2/Alleles_frequency_table.zip\", \n",
    "                                                                                root_dir + \"CRISPResso_on_sample_ABE8e_PAX5sg_low_3/Alleles_frequency_table.zip\"],\n",
    "                                                 population_target_filepaths=[root_dir + \"CRISPResso_on_sample_ABE8e_PAX5sg_high_1/Alleles_frequency_table.zip\", \n",
    "                                                                              root_dir + \"CRISPResso_on_sample_ABE8e_PAX5sg_high_2/Alleles_frequency_table.zip\", \n",
    "                                                                              root_dir + \"CRISPResso_on_sample_ABE8e_PAX5sg_high_3/Alleles_frequency_table.zip\"],\n",
    "                                                 population_presort_filepaths=[root_dir + \"CRISPResso_on_sample_ABE8e_PAX5sg_presort_1/Alleles_frequency_table.zip\", \n",
    "                                                                               root_dir + \"CRISPResso_on_sample_ABE8e_PAX5sg_presort_2/Alleles_frequency_table.zip\", \n",
    "                                                                               root_dir + \"CRISPResso_on_sample_ABE8e_PAX5sg_presort_3/Alleles_frequency_table.zip\"],\n",
    "                                                 wt_filepaths=[\"/data/pinello/PROJECTS/2023_08_CD19_manuscript/Core_Processing_Analysis/Analysis/ABE8e_Pooled_Endogenous_Redo_AND_ABE8e_sg219_Endogenous_AND_EvoCDA_Hits_Endogenous_CRISPREsso2_Analysis/20231002_v3_CRISPResso2Batch_Results/ABE8e_pooled/premerged_middle/CRISPRessoBatch_on_ABE8e_pooled_premerged_middle/CRISPResso_on_sample_mock_presort_1/Alleles_frequency_table.zip\"])"
   ]
  },
  {
   "cell_type": "code",
   "execution_count": null,
   "id": "0abd1b11",
   "metadata": {
    "scrolled": true
   },
   "outputs": [],
   "source": [
    "import pickle\n",
    "\n",
    "version = \"20240905_v0_1_89\"\n",
    "name = \"sg219_encoding_dataframes_variantdenoised_removed_CRISPResso2Merged_trimmed\"\n",
    "\n",
    "# RUN ENCODING\n",
    "print(\"Reading tables\")\n",
    "sg219_encoding_dataframes_fulldenoised_removed.read_crispresso_allele_tables()\n",
    "print(\"Encoding tables\")\n",
    "sg219_encoding_dataframes_fulldenoised_removed.encode_crispresso_allele_table(progress_bar=True, cores=50)\n",
    "print(\"Postprocessing tables\")\n",
    "sg219_encoding_dataframes_fulldenoised_removed.postprocess_encoding()\n",
    "\n",
    "\n",
    "# SAVE PICKLE\n",
    "with open(f\"{version}_{name}.pkl\", 'wb') as fn: \n",
    "    pickle.dump(sg219_encoding_dataframes_fulldenoised_removed, fn) \n",
    "\n",
    "# SAVE ENCODINGS\n",
    "cme.save_encodings(sg219_encoding_dataframes_fulldenoised_removed.encodings_collapsed_merged, sort_column=\"#Reads_presort\", filename=f\"./{version}_{name}_ABE8e_encodings_rep{{}}.tsv\")\n",
    "cme.save_encodings(sg219_encoding_dataframes_fulldenoised_removed.population_wt_encoding_processed, sort_column=\"#Reads_wt\", filename=f\"./{version}_{name}_wt_encodings_rep{{}}.tsv\")\n",
    "cme.save_encodings_df(sg219_encoding_dataframes_fulldenoised_removed.population_baseline_encoding_processed, filename=f\"./{version}_{name}_CD19minus_ABE8e_encodings_rep{{}}.pkl\")\n",
    "cme.save_encodings_df(sg219_encoding_dataframes_fulldenoised_removed.population_target_encoding_processed, filename=f\"./{version}_{name}_CD19plus_ABE8e_encodings_rep{{}}.pkl\")\n",
    "cme.save_encodings_df(sg219_encoding_dataframes_fulldenoised_removed.population_presort_encoding_processed, filename=f\"./{version}_{name}_presort_ABE8e_encodings_rep{{}}.pkl\")\n",
    "cme.save_encodings_df(sg219_encoding_dataframes_fulldenoised_removed.population_wt_encoding_processed, filename=f\"./{version}_{name}_wt_encodings_rep{{}}.pkl\")"
   ]
  }
 ],
 "metadata": {
  "kernelspec": {
   "display_name": "Python [conda env:bb_millipede_gpu_py310]",
   "language": "python",
   "name": "conda-env-bb_millipede_gpu_py310-py"
  },
  "language_info": {
   "codemirror_mode": {
    "name": "ipython",
    "version": 3
   },
   "file_extension": ".py",
   "mimetype": "text/x-python",
   "name": "python",
   "nbconvert_exporter": "python",
   "pygments_lexer": "ipython3",
   "version": "3.10.14"
  }
 },
 "nbformat": 4,
 "nbformat_minor": 5
}
