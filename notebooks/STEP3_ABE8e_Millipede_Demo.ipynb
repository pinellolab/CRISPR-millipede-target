{
 "cells": [
  {
   "cell_type": "markdown",
   "id": "4b183f78",
   "metadata": {},
   "source": [
    "# Run ABE8e Millipede Model"
   ]
  },
  {
   "cell_type": "markdown",
   "id": "171a3555",
   "metadata": {},
   "source": [
    "### Prepare Data Input\n",
    "\n",
    "You will only need the encoding output from the previous step. You can also download the pre-computed encoding from [Zenodo](https://doi.org/10.5281/zenodo.13737880) at path: \n",
    "- CRISPR-CLEAR-data/data/encoding_output/20240807_v0_1_84_encoding_dataframes_denoised_removed_ABE8e_encodings_rep0.tsv\n",
    "- CRISPR-CLEAR-data/data/encoding_output/20240807_v0_1_84_encoding_dataframes_denoised_removed_ABE8e_encodings_rep1.tsv\n",
    "- CRISPR-CLEAR-data/data/encoding_output/20240807_v0_1_84_encoding_dataframes_denoised_removed_ABE8e_encodings_rep2.tsv"
   ]
  },
  {
   "cell_type": "markdown",
   "id": "9b66dae6",
   "metadata": {},
   "source": [
    "### Import packages"
   ]
  },
  {
   "cell_type": "code",
   "execution_count": 2,
   "id": "6bd90277",
   "metadata": {},
   "outputs": [],
   "source": [
    "import os\n",
    "\n",
    "os.environ[\"CUDA_VISIBLE_DEVICES\"] = \"1\"\n",
    "\n",
    "from crispr_millipede import encoding as cme\n",
    "from crispr_millipede import modelling as cmm\n",
    "\n",
    "import pandas as pd\n",
    "import numpy as np\n",
    "\n",
    "from Bio import SeqIO\n",
    "from Bio.Seq import Seq\n",
    "\n",
    "import matplotlib.pyplot as plt\n",
    "import logomaker\n",
    "import seaborn as sns\n",
    "import matplotlib.patches as patches"
   ]
  },
  {
   "cell_type": "code",
   "execution_count": 3,
   "id": "10786c92",
   "metadata": {},
   "outputs": [
    {
     "name": "stdout",
     "output_type": "stream",
     "text": [
      "Length of amplicon 346\n"
     ]
    }
   ],
   "source": [
    "# Set amplicon sequence - UPDATE\n",
    "amplicon = \"ACATGCTCTAGTGAAAGCCAGTCTGGGCAGCTGGGTAGCTAATGAGGGGATTAGAGAGATTTTGTTGAATGAAAGGCAGATTGAGTCCTGCTACTCGCCCCCTTCATTCCCCTTCATTCATGCCTCATTCTTCCGCCTCCCAGCCGCCTCAACTGGCCAAAGGGAAGTGGAGGCCCTGCCACCTGTAGGGAGGGTCCCCTGGGGCTTGCCCACAGCAAACAGGAAGTCACAGCCTGGTGAGATGGGCCTGGGAATCAGCCACTGAGAAAGTGGGTCTCTTGGGTCCCTGAATTCTTTTTCTGAGTCCCTGCAGCAGTGAAAAAGACACAGAGGCACATAGAGAGTG\"\n",
    "print(f\"Length of amplicon {len(amplicon)}\")"
   ]
  },
  {
   "cell_type": "markdown",
   "id": "cbea8222",
   "metadata": {},
   "source": [
    "### Prepare Millipede specification parameters"
   ]
  },
  {
   "cell_type": "code",
   "execution_count": 3,
   "id": "5bd5ab74",
   "metadata": {},
   "outputs": [],
   "source": [
    "design_matrix_spec = cmm.MillipedeDesignMatrixProcessingSpecification(\n",
    "    wt_normalization=False,\n",
    "    total_normalization=True,\n",
    "    sigma_scale_normalized=True,\n",
    "    decay_sigma_scale=True,\n",
    "    K_enriched=5,\n",
    "    K_baseline=5,\n",
    "    a_parameter=0.0005,\n",
    "    set_offset_as_presort = True,\n",
    "    offset_normalized = False,\n",
    "    offset_psuedocount = 1 \n",
    ")\n",
    "\n",
    "millipede_model_specification_set = {\n",
    "    \"joint_replicate_per_experiment_models\" : cmm.MillipedeModelSpecification(\n",
    "        model_types=[cmm.MillipedeModelType.NORMAL_SIGMA_SCALED, cmm.MillipedeModelType.NORMAL],\n",
    "        replicate_merge_strategy=cmm.MillipedeReplicateMergeStrategy.COVARIATE,\n",
    "        experiment_merge_strategy=cmm.MillipedeExperimentMergeStrategy.SEPARATE,\n",
    "        S = 5,\n",
    "        tau = 0.01,\n",
    "        tau_intercept = 0.0001,\n",
    "        cutoff_specification=cmm.MillipedeCutoffSpecification(\n",
    "            per_replicate_each_condition_num_cutoff = 0, \n",
    "            per_replicate_all_condition_num_cutoff = 1, \n",
    "            all_replicate_num_cutoff = 0, \n",
    "            all_experiment_num_cutoff = 0,\n",
    "            baseline_pop_all_condition_each_replicate_num_cutoff = 3,\n",
    "            baseline_pop_all_condition_acceptable_rep_count = 2,\n",
    "            enriched_pop_all_condition_each_replicate_num_cutoff = 3,\n",
    "            enriched_pop_all_condition_acceptable_rep_count = 2,\n",
    "            presort_pop_all_condition_each_replicate_num_cutoff = 3,\n",
    "            presort_pop_all_condition_acceptable_rep_count = 2,\n",
    "            \n",
    "        ),\n",
    "        design_matrix_processing_specification=design_matrix_spec\n",
    "    )\n",
    "}"
   ]
  },
  {
   "cell_type": "code",
   "execution_count": 4,
   "id": "59c6bf21",
   "metadata": {},
   "outputs": [
    {
     "name": "stdout",
     "output_type": "stream",
     "text": [
      "Performing initial input validation checks...\n",
      "Passed validation.\n",
      "Retrieving data for\n",
      "\tReplicate Merge Strategy: MillipedeReplicateMergeStrategy.COVARIATE \n",
      "\tExperiment Merge Strategy MillipedeExperimentMergeStrategy.SEPARATE\n",
      "\tCutoff: \n",
      "                    per_replicate_each_condition_num_cutoff=0, \n",
      "                    per_replicate_presort_condition_num_cutoff=0, \n",
      "                    per_replicate_all_condition_num_cutoff=1, \n",
      "                    all_replicate_num_cutoff=0, \n",
      "                    all_experiment_num_cutoff=0, \n",
      "                    baseline_pop_per_condition_acceptable_rep_count=0, \n",
      "                    baseline_pop_per_condition_acceptable_rep_count=0, \n",
      "                    baseline_pop_per_condition_acceptable_rep_count=0,\n",
      "                    enriched_pop_per_condition_each_replicate_num_cutoff=0,\n",
      "                    enriched_pop_per_condition_acceptable_rep_count=0,\n",
      "                    presort_pop_per_condition_each_replicate_num_cutoff=0,\n",
      "                    presort_pop_per_condition_acceptable_rep_count=0,\n",
      "                    baseline_pop_all_condition_each_replicate_num_cutoff=3,\n",
      "                    baseline_pop_all_condition_acceptable_rep_count=2,\n",
      "                    enriched_pop_all_condition_each_replicate_num_cutoff=3,\n",
      "                    enriched_pop_all_condition_acceptable_rep_count=2,\n",
      "                    presort_pop_all_condition_each_replicate_num_cutoff=3,\n",
      "                    presort_pop_all_condition_acceptable_rep_count=2\n",
      "\tMatrixProcessing: wt_normalization=False;total_normalization=True;sigma_scale_normalized=True;decay_sigma_scale=True;K_enriched=5;K_baseline=5;a_parameter=0.0005; set_offset_as_default=False, set_offset_as_total_reads=False, set_offset_as_enriched=False, set_offset_as_baseline=False, set_offset_as_presort=True, offset_normalized=False, offset_psuedocount=1\n",
      "Running all-condition filtering with enriched_num_cutoff=3, enriched_acceptable_rep_count=2, baseline_num_cutoff=3, baseline_acceptable_rep_count=2, presort_num_cutoff=3, presort_acceptable_rep_count=2\n"
     ]
    }
   ],
   "source": [
    "# Load in the encoding data - UPDATE WITH YOUR OWN FILEPATHS and UPDATE SUFFIXES with what was specified in the encoding step\n",
    "paired_end_experiments_inputdata_denoised = cmm.MillipedeInputDataExperimentalGroup(\n",
    "    data_directory=\"./\", \n",
    "    enriched_pop_fn_experiment_list = [\"20240807_v0_1_84_encoding_dataframes_denoised_removed_ABE8e_encodings_rep{}.tsv\"],\n",
    "    enriched_pop_df_reads_colname = \"#Reads_CD19minus\",\n",
    "    baseline_pop_fn_experiment_list = [\"20240807_v0_1_84_encoding_dataframes_denoised_removed_ABE8e_encodings_rep{}.tsv\"],\n",
    "    baseline_pop_df_reads_colname = \"#Reads_CD19plus\", \n",
    "    presort_pop_fn_experiment_list = [\"20240807_v0_1_84_encoding_dataframes_denoised_removed_ABE8e_encodings_rep{}.tsv\"],\n",
    "    presort_pop_df_reads_colname = '#Reads_presort',\n",
    "    experiment_labels = [\"ABE8e\"],\n",
    "    reps = [0,1,2],\n",
    "    millipede_model_specification_set = millipede_model_specification_set\n",
    "   )"
   ]
  },
  {
   "cell_type": "markdown",
   "id": "a7952f3f",
   "metadata": {},
   "source": [
    "### Run Millipede"
   ]
  },
  {
   "cell_type": "code",
   "execution_count": 27,
   "id": "dba1f6a4",
   "metadata": {},
   "outputs": [
    {
     "name": "stdout",
     "output_type": "stream",
     "text": [
      "Start model inference for all provided model specifications: 1 total\n",
      "Starting model inference for model specification id 1/1: joint_replicate_per_experiment_models\n",
      "Number of single matrices: 1\n",
      "With 2 model types, the total models to inference for this model specification: 2\n",
      "Running model(s) for single matrix index: 1/1\n",
      "Iterating through all 2 provided models: \n",
      "Preparing data for model NORMAL_SIGMA_SCALED, 1/2\n",
      "Running model NORMAL_SIGMA_SCALED\n"
     ]
    },
    {
     "data": {
      "application/vnd.jupyter.widget-view+json": {
       "model_id": "d3e2a2b5985241b5bb263a6f8c2f24e4",
       "version_major": 2,
       "version_minor": 0
      },
      "text/plain": [
       "  0%|          | 0/5500 [00:00<?, ?it/s]"
      ]
     },
     "metadata": {},
     "output_type": "display_data"
    },
    {
     "name": "stdout",
     "output_type": "stream",
     "text": [
      "Preparing data for model NORMAL, 2/2\n",
      "Running model NORMAL\n"
     ]
    },
    {
     "data": {
      "application/vnd.jupyter.widget-view+json": {
       "model_id": "004e5247d9d74dc9ae02d834f36c1b47",
       "version_major": 2,
       "version_minor": 0
      },
      "text/plain": [
       "  0%|          | 0/5500 [00:00<?, ?it/s]"
      ]
     },
     "metadata": {},
     "output_type": "display_data"
    },
    {
     "name": "stdout",
     "output_type": "stream",
     "text": [
      "CPU times: user 40.2 s, sys: 859 ms, total: 41.1 s\n",
      "Wall time: 38.8 s\n"
     ]
    }
   ],
   "source": [
    "%%time\n",
    "from crispr_millipede import encoding as cme\n",
    "from crispr_millipede import modelling as cmm\n",
    "\n",
    "# Run Millipede on the GPU, could also run on CPU by setting device=cmm.MillipedeComputeDevice.CPU \n",
    "paired_end_experiments_models_denoised = cmm.MillipedeModelExperimentalGroup(experiments_inputdata=paired_end_experiments_inputdata_denoised, device=cmm.MillipedeComputeDevice.GPU)"
   ]
  },
  {
   "cell_type": "code",
   "execution_count": 23,
   "id": "f3b111db",
   "metadata": {},
   "outputs": [
    {
     "data": {
      "text/plain": [
       "223A>G                 0.345297\n",
       "151A>G                 0.231534\n",
       "137T>C                 0.218683\n",
       "230A>G                 0.172012\n",
       "158A>G                 0.145174\n",
       "311A>G                 0.102413\n",
       "Intercept              0.056921\n",
       "148T>C                 0.026914\n",
       "252A>G                 0.024541\n",
       "228A>G                 0.022735\n",
       "296T>C                 0.017394\n",
       "308T>C                 0.016018\n",
       "176T>C                 0.015985\n",
       "intercept_exp0_rep1    0.014432\n",
       "intercept_exp0_rep0    0.013535\n",
       "254T>C                 0.006787\n",
       "220A>G                 0.004918\n",
       "318A>G                 0.004797\n",
       "41A>G                  0.004710\n",
       "302A>G                 0.002715\n",
       "218A>G                 0.002708\n",
       "260A>G                 0.002103\n",
       "115A>G                 0.001701\n",
       "290A>G                 0.001640\n",
       "119A>G                 0.001291\n",
       "28A>G                  0.000964\n",
       "31T>C                  0.000835\n",
       "324A>G                 0.000821\n",
       "287T>C                 0.000604\n",
       "186A>G                 0.000554\n",
       "321A>G                 0.000549\n",
       "283T>C                 0.000539\n",
       "131T>C                 0.000510\n",
       "199T>C                 0.000491\n",
       "185T>C                 0.000479\n",
       "304T>C                 0.000476\n",
       "68A>G                  0.000474\n",
       "320A>G                 0.000423\n",
       "36A>G                  0.000366\n",
       "79A>G                  0.000345\n",
       "Name: Coefficient, dtype: float64"
      ]
     },
     "metadata": {},
     "output_type": "display_data"
    },
    {
     "data": {
      "text/plain": [
       "137T>C    0.999999\n",
       "151A>G    0.999971\n",
       "223A>G    0.999883\n",
       "158A>G    0.962024\n",
       "270T>C    0.919929\n",
       "230A>G    0.871196\n",
       "311A>G    0.828489\n",
       "105A>G    0.673081\n",
       "241A>G    0.392369\n",
       "148T>C    0.261461\n",
       "252A>G    0.226278\n",
       "112T>C    0.225789\n",
       "248T>C    0.147185\n",
       "228A>G    0.128986\n",
       "308T>C    0.127089\n",
       "176T>C    0.120848\n",
       "239A>G    0.080153\n",
       "106T>C    0.077520\n",
       "296T>C    0.047972\n",
       "318A>G    0.039347\n",
       "254T>C    0.036575\n",
       "62T>C     0.034494\n",
       "220A>G    0.030856\n",
       "60T>C     0.025770\n",
       "41A>G     0.024199\n",
       "242T>C    0.024038\n",
       "59T>C     0.022887\n",
       "260A>G    0.021459\n",
       "213A>G    0.020653\n",
       "61T>C     0.019509\n",
       "113T>C    0.019012\n",
       "302A>G    0.017598\n",
       "283T>C    0.017441\n",
       "218A>G    0.017207\n",
       "65T>C     0.015144\n",
       "324A>G    0.013401\n",
       "289A>G    0.013216\n",
       "211A>G    0.013110\n",
       "165A>G    0.012787\n",
       "180A>G    0.012493\n",
       "Name: PIP, dtype: float64"
      ]
     },
     "metadata": {},
     "output_type": "display_data"
    }
   ],
   "source": [
    "# Get the Beta and PIP coefficients\n",
    "beta_df = paired_end_experiments_models_denoised.millipede_model_specification_set_with_results['joint_replicate_per_experiment_models'].millipede_model_specification_result_input[0].millipede_model_specification_single_matrix_result[cmm.MillipedeModelType.NORMAL_SIGMA_SCALED].beta\n",
    "pip_df = paired_end_experiments_models_denoised.millipede_model_specification_set_with_results['joint_replicate_per_experiment_models'].millipede_model_specification_result_input[0].millipede_model_specification_single_matrix_result[cmm.MillipedeModelType.NORMAL_SIGMA_SCALED].pip\n",
    "display(beta_df.sort_values(ascending=False).head(40))\n",
    "display(pip_df.sort_values(ascending=False).head(40))"
   ]
  },
  {
   "cell_type": "code",
   "execution_count": 117,
   "id": "62e7f649",
   "metadata": {},
   "outputs": [
    {
     "data": {
      "text/html": [
       "<div>\n",
       "<style scoped>\n",
       "    .dataframe tbody tr th:only-of-type {\n",
       "        vertical-align: middle;\n",
       "    }\n",
       "\n",
       "    .dataframe tbody tr th {\n",
       "        vertical-align: top;\n",
       "    }\n",
       "\n",
       "    .dataframe thead th {\n",
       "        text-align: right;\n",
       "    }\n",
       "</style>\n",
       "<table border=\"1\" class=\"dataframe\">\n",
       "  <thead>\n",
       "    <tr style=\"text-align: right;\">\n",
       "      <th></th>\n",
       "      <th>PIP</th>\n",
       "      <th>Coefficient</th>\n",
       "      <th>Coefficient StdDev</th>\n",
       "      <th>Conditional Coefficient</th>\n",
       "      <th>Conditional Coefficient StdDev</th>\n",
       "    </tr>\n",
       "  </thead>\n",
       "  <tbody>\n",
       "    <tr>\n",
       "      <th>21T&gt;C</th>\n",
       "      <td>0.002079</td>\n",
       "      <td>0.000057</td>\n",
       "      <td>0.002054</td>\n",
       "      <td>0.033305</td>\n",
       "      <td>0.036591</td>\n",
       "    </tr>\n",
       "    <tr>\n",
       "      <th>23T&gt;C</th>\n",
       "      <td>0.001627</td>\n",
       "      <td>0.000081</td>\n",
       "      <td>0.002558</td>\n",
       "      <td>0.041877</td>\n",
       "      <td>0.040324</td>\n",
       "    </tr>\n",
       "    <tr>\n",
       "      <th>28A&gt;G</th>\n",
       "      <td>0.009664</td>\n",
       "      <td>0.001066</td>\n",
       "      <td>0.010257</td>\n",
       "      <td>0.083130</td>\n",
       "      <td>0.037150</td>\n",
       "    </tr>\n",
       "    <tr>\n",
       "      <th>31T&gt;C</th>\n",
       "      <td>0.003243</td>\n",
       "      <td>0.000404</td>\n",
       "      <td>0.009140</td>\n",
       "      <td>0.074057</td>\n",
       "      <td>0.099380</td>\n",
       "    </tr>\n",
       "    <tr>\n",
       "      <th>35T&gt;C</th>\n",
       "      <td>0.001179</td>\n",
       "      <td>0.000004</td>\n",
       "      <td>0.000438</td>\n",
       "      <td>0.042920</td>\n",
       "      <td>0.000000</td>\n",
       "    </tr>\n",
       "    <tr>\n",
       "      <th>...</th>\n",
       "      <td>...</td>\n",
       "      <td>...</td>\n",
       "      <td>...</td>\n",
       "      <td>...</td>\n",
       "      <td>...</td>\n",
       "    </tr>\n",
       "    <tr>\n",
       "      <th>324A&gt;G</th>\n",
       "      <td>0.012526</td>\n",
       "      <td>0.001565</td>\n",
       "      <td>0.013515</td>\n",
       "      <td>0.101982</td>\n",
       "      <td>0.040786</td>\n",
       "    </tr>\n",
       "    <tr>\n",
       "      <th>intercept_exp0_rep0</th>\n",
       "      <td>NaN</td>\n",
       "      <td>0.013960</td>\n",
       "      <td>0.013531</td>\n",
       "      <td>0.013960</td>\n",
       "      <td>0.013531</td>\n",
       "    </tr>\n",
       "    <tr>\n",
       "      <th>intercept_exp0_rep1</th>\n",
       "      <td>NaN</td>\n",
       "      <td>0.015229</td>\n",
       "      <td>0.013990</td>\n",
       "      <td>0.015229</td>\n",
       "      <td>0.013990</td>\n",
       "    </tr>\n",
       "    <tr>\n",
       "      <th>intercept_exp0_rep2</th>\n",
       "      <td>NaN</td>\n",
       "      <td>-0.028532</td>\n",
       "      <td>0.014108</td>\n",
       "      <td>-0.028532</td>\n",
       "      <td>0.014108</td>\n",
       "    </tr>\n",
       "    <tr>\n",
       "      <th>Intercept</th>\n",
       "      <td>NaN</td>\n",
       "      <td>0.052212</td>\n",
       "      <td>1.825286</td>\n",
       "      <td>0.052212</td>\n",
       "      <td>1.825286</td>\n",
       "    </tr>\n",
       "  </tbody>\n",
       "</table>\n",
       "<p>141 rows × 5 columns</p>\n",
       "</div>"
      ],
      "text/plain": [
       "                          PIP  Coefficient  Coefficient StdDev  \\\n",
       "21T>C                0.002079     0.000057            0.002054   \n",
       "23T>C                0.001627     0.000081            0.002558   \n",
       "28A>G                0.009664     0.001066            0.010257   \n",
       "31T>C                0.003243     0.000404            0.009140   \n",
       "35T>C                0.001179     0.000004            0.000438   \n",
       "...                       ...          ...                 ...   \n",
       "324A>G               0.012526     0.001565            0.013515   \n",
       "intercept_exp0_rep0       NaN     0.013960            0.013531   \n",
       "intercept_exp0_rep1       NaN     0.015229            0.013990   \n",
       "intercept_exp0_rep2       NaN    -0.028532            0.014108   \n",
       "Intercept                 NaN     0.052212            1.825286   \n",
       "\n",
       "                     Conditional Coefficient  Conditional Coefficient StdDev  \n",
       "21T>C                               0.033305                        0.036591  \n",
       "23T>C                               0.041877                        0.040324  \n",
       "28A>G                               0.083130                        0.037150  \n",
       "31T>C                               0.074057                        0.099380  \n",
       "35T>C                               0.042920                        0.000000  \n",
       "...                                      ...                             ...  \n",
       "324A>G                              0.101982                        0.040786  \n",
       "intercept_exp0_rep0                 0.013960                        0.013531  \n",
       "intercept_exp0_rep1                 0.015229                        0.013990  \n",
       "intercept_exp0_rep2                -0.028532                        0.014108  \n",
       "Intercept                           0.052212                        1.825286  \n",
       "\n",
       "[141 rows x 5 columns]"
      ]
     },
     "execution_count": 117,
     "metadata": {},
     "output_type": "execute_result"
    }
   ],
   "source": [
    "sigma_hit_table = paired_end_experiments_models_denoised.millipede_model_specification_set_with_results[\"joint_replicate_per_experiment_models\"].millipede_model_specification_result_input[0].millipede_model_specification_single_matrix_result[cmm.MillipedeModelType.NORMAL_SIGMA_SCALED].summary\n",
    "sigma_hit_table.to_csv('CD19_ABE8e_sigma_hit_table_ZP.csv', index=True)\n",
    "sigma_hit_table"
   ]
  }
 ],
 "metadata": {
  "kernelspec": {
   "display_name": "Python [conda env:MilliV2]",
   "language": "python",
   "name": "conda-env-MilliV2-py"
  },
  "language_info": {
   "codemirror_mode": {
    "name": "ipython",
    "version": 3
   },
   "file_extension": ".py",
   "mimetype": "text/x-python",
   "name": "python",
   "nbconvert_exporter": "python",
   "pygments_lexer": "ipython3",
   "version": "3.10.14"
  }
 },
 "nbformat": 4,
 "nbformat_minor": 5
}
