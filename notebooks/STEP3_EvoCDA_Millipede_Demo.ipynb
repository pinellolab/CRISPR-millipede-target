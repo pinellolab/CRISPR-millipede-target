{
 "cells": [
  {
   "cell_type": "markdown",
   "id": "b4b209e7",
   "metadata": {},
   "source": [
    "# Run EvoCDA Millipede Model"
   ]
  },
  {
   "cell_type": "markdown",
   "id": "699409ef",
   "metadata": {},
   "source": [
    "### Prepare Data Input\n",
    "\n",
    "You will only need the encoding output from the previous step. You can also download the pre-computed encoding from [Zenodo](https://doi.org/10.5281/zenodo.13737880) at path: \n",
    "- CRISPR-CLEAR-data/data/encoding_output/20240816_v0_1_84_EvoCDA_encoding_dataframes_denoised_removed_ABE8e_encodings_rep0.tsv\n",
    "- CRISPR-CLEAR-data/data/encoding_output/20240816_v0_1_84_EvoCDA_encoding_dataframes_denoised_removed_ABE8e_encodings_rep1.tsv\n",
    "- CRISPR-CLEAR-data/data/encoding_output/20240816_v0_1_84_EvoCDA_encoding_dataframes_denoised_removed_ABE8e_encodings_rep3.tsv"
   ]
  },
  {
   "cell_type": "markdown",
   "id": "49e959d7",
   "metadata": {},
   "source": [
    "### Import packages"
   ]
  },
  {
   "cell_type": "code",
   "execution_count": 1,
   "id": "e9fe324b",
   "metadata": {},
   "outputs": [],
   "source": [
    "import os\n",
    "\n",
    "os.environ[\"CUDA_VISIBLE_DEVICES\"] = \"1\"\n",
    "\n",
    "\n",
    "from crispr_millipede import encoding as cme\n",
    "from crispr_millipede import modelling as cmm\n",
    "\n",
    "import pandas as pd\n",
    "import numpy as np\n",
    "\n",
    "from Bio import SeqIO\n",
    "from Bio.Seq import Seq\n",
    "\n",
    "import matplotlib.pyplot as plt\n",
    "import logomaker\n",
    "import seaborn as sns\n",
    "import matplotlib.patches as patches"
   ]
  },
  {
   "cell_type": "code",
   "execution_count": 2,
   "id": "4989608b",
   "metadata": {},
   "outputs": [
    {
     "name": "stdout",
     "output_type": "stream",
     "text": [
      "Length of amplicon 346\n"
     ]
    }
   ],
   "source": [
    "# Set amplicon sequence - UPDATE\n",
    "amplicon = \"ACATGCTCTAGTGAAAGCCAGTCTGGGCAGCTGGGTAGCTAATGAGGGGATTAGAGAGATTTTGTTGAATGAAAGGCAGATTGAGTCCTGCTACTCGCCCCCTTCATTCCCCTTCATTCATGCCTCATTCTTCCGCCTCCCAGCCGCCTCAACTGGCCAAAGGGAAGTGGAGGCCCTGCCACCTGTAGGGAGGGTCCCCTGGGGCTTGCCCACAGCAAACAGGAAGTCACAGCCTGGTGAGATGGGCCTGGGAATCAGCCACTGAGAAAGTGGGTCTCTTGGGTCCCTGAATTCTTTTTCTGAGTCCCTGCAGCAGTGAAAAAGACACAGAGGCACATAGAGAGTG\"\n",
    "print(f\"Length of amplicon {len(amplicon)}\")"
   ]
  },
  {
   "cell_type": "markdown",
   "id": "0878add3",
   "metadata": {},
   "source": [
    "### Prepare Millipede specification parameters"
   ]
  },
  {
   "cell_type": "code",
   "execution_count": 3,
   "id": "4a618967",
   "metadata": {},
   "outputs": [],
   "source": [
    "design_matrix_spec = cmm.MillipedeDesignMatrixProcessingSpecification(\n",
    "    wt_normalization=False,\n",
    "    total_normalization=True,\n",
    "    sigma_scale_normalized=True,\n",
    "    decay_sigma_scale=True,\n",
    "    K_enriched=5,\n",
    "    K_baseline=5,\n",
    "    a_parameter=0.0005,\n",
    "    set_offset_as_presort = True,\n",
    "    offset_normalized = False,\n",
    "    offset_psuedocount = 1\n",
    ")\n",
    "\n",
    "millipede_model_specification_set = {\n",
    "    \"joint_replicate_per_experiment_models\" : cmm.MillipedeModelSpecification(\n",
    "        model_types=[cmm.MillipedeModelType.NORMAL_SIGMA_SCALED, cmm.MillipedeModelType.NORMAL],\n",
    "        replicate_merge_strategy=cmm.MillipedeReplicateMergeStrategy.COVARIATE,\n",
    "        experiment_merge_strategy=cmm.MillipedeExperimentMergeStrategy.SEPARATE,\n",
    "        S = 5,\n",
    "        tau = 0.01,\n",
    "        tau_intercept = 0.0001,\n",
    "        cutoff_specification=cmm.MillipedeCutoffSpecification(\n",
    "            per_replicate_each_condition_num_cutoff = 0, \n",
    "            per_replicate_all_condition_num_cutoff = 1, \n",
    "            all_replicate_num_cutoff = 0, \n",
    "            all_experiment_num_cutoff = 0,\n",
    "            baseline_pop_all_condition_each_replicate_num_cutoff = 3,\n",
    "            baseline_pop_all_condition_acceptable_rep_count = 2,\n",
    "            enriched_pop_all_condition_each_replicate_num_cutoff = 3,\n",
    "            enriched_pop_all_condition_acceptable_rep_count = 2,\n",
    "            presort_pop_all_condition_each_replicate_num_cutoff = 3,\n",
    "            presort_pop_all_condition_acceptable_rep_count = 2,\n",
    "            \n",
    "        ),\n",
    "        design_matrix_processing_specification=design_matrix_spec\n",
    "    )\n",
    "}"
   ]
  },
  {
   "cell_type": "code",
   "execution_count": 4,
   "id": "df540bf1",
   "metadata": {},
   "outputs": [
    {
     "name": "stdout",
     "output_type": "stream",
     "text": [
      "Performing initial input validation checks...\n",
      "Passed validation.\n",
      "Retrieving data for\n",
      "\tReplicate Merge Strategy: MillipedeReplicateMergeStrategy.COVARIATE \n",
      "\tExperiment Merge Strategy MillipedeExperimentMergeStrategy.SEPARATE\n",
      "\tCutoff: \n",
      "                    per_replicate_each_condition_num_cutoff=0, \n",
      "                    per_replicate_presort_condition_num_cutoff=0, \n",
      "                    per_replicate_all_condition_num_cutoff=1, \n",
      "                    all_replicate_num_cutoff=0, \n",
      "                    all_experiment_num_cutoff=0, \n",
      "                    baseline_pop_per_condition_acceptable_rep_count=0, \n",
      "                    baseline_pop_per_condition_acceptable_rep_count=0, \n",
      "                    baseline_pop_per_condition_acceptable_rep_count=0,\n",
      "                    enriched_pop_per_condition_each_replicate_num_cutoff=0,\n",
      "                    enriched_pop_per_condition_acceptable_rep_count=0,\n",
      "                    presort_pop_per_condition_each_replicate_num_cutoff=0,\n",
      "                    presort_pop_per_condition_acceptable_rep_count=0,\n",
      "                    baseline_pop_all_condition_each_replicate_num_cutoff=3,\n",
      "                    baseline_pop_all_condition_acceptable_rep_count=2,\n",
      "                    enriched_pop_all_condition_each_replicate_num_cutoff=3,\n",
      "                    enriched_pop_all_condition_acceptable_rep_count=2,\n",
      "                    presort_pop_all_condition_each_replicate_num_cutoff=3,\n",
      "                    presort_pop_all_condition_acceptable_rep_count=2\n",
      "\tMatrixProcessing: wt_normalization=False;total_normalization=True;sigma_scale_normalized=True;decay_sigma_scale=True;K_enriched=5;K_baseline=5;a_parameter=0.0005; set_offset_as_default=False, set_offset_as_total_reads=False, set_offset_as_enriched=False, set_offset_as_baseline=False, set_offset_as_presort=True, offset_normalized=False, offset_psuedocount=1\n",
      "Running all-condition filtering with enriched_num_cutoff=3, enriched_acceptable_rep_count=2, baseline_num_cutoff=3, baseline_acceptable_rep_count=2, presort_num_cutoff=3, presort_acceptable_rep_count=2\n"
     ]
    }
   ],
   "source": [
    "# Load in the encoding data - UPDATE WITH YOUR OWN FILEPATHS and UPDATE SUFFIXES with what was specified in the encoding step\n",
    "paired_end_experiments_inputdata_denoised = cmm.MillipedeInputDataExperimentalGroup(\n",
    "    data_directory=\"./\", \n",
    "    enriched_pop_fn_experiment_list = [\"20240816_v0_1_84_EvoCDA_encoding_dataframes_denoised_removed_ABE8e_encodings_rep{}.tsv\"],\n",
    "    enriched_pop_df_reads_colname = \"#Reads_CD19minus\",\n",
    "    baseline_pop_fn_experiment_list = [\"20240816_v0_1_84_EvoCDA_encoding_dataframes_denoised_removed_ABE8e_encodings_rep{}.tsv\"],\n",
    "    baseline_pop_df_reads_colname = \"#Reads_CD19plus\", \n",
    "    presort_pop_fn_experiment_list = [\"20240816_v0_1_84_EvoCDA_encoding_dataframes_denoised_removed_ABE8e_encodings_rep{}.tsv\"],\n",
    "    presort_pop_df_reads_colname = '#Reads_presort',\n",
    "    experiment_labels = [\"EvoCDA\"],\n",
    "    reps = [0,1,2],\n",
    "    millipede_model_specification_set = millipede_model_specification_set\n",
    "   )\n"
   ]
  },
  {
   "cell_type": "markdown",
   "id": "c351ddee",
   "metadata": {},
   "source": [
    "## Run Millipede"
   ]
  },
  {
   "cell_type": "code",
   "execution_count": 28,
   "id": "d290b7ea",
   "metadata": {},
   "outputs": [
    {
     "name": "stdout",
     "output_type": "stream",
     "text": [
      "Start model inference for all provided model specifications: 1 total\n",
      "Starting model inference for model specification id 1/1: joint_replicate_per_experiment_models\n",
      "Number of single matrices: 1\n",
      "With 2 model types, the total models to inference for this model specification: 2\n",
      "Running model(s) for single matrix index: 1/1\n",
      "Iterating through all 2 provided models: \n",
      "Preparing data for model NORMAL_SIGMA_SCALED, 1/2\n",
      "Running model NORMAL_SIGMA_SCALED\n"
     ]
    },
    {
     "data": {
      "application/vnd.jupyter.widget-view+json": {
       "model_id": "1f30524d91454f50bec1a0d881ef2cc9",
       "version_major": 2,
       "version_minor": 0
      },
      "text/plain": [
       "  0%|          | 0/5500 [00:00<?, ?it/s]"
      ]
     },
     "metadata": {},
     "output_type": "display_data"
    },
    {
     "name": "stdout",
     "output_type": "stream",
     "text": [
      "Preparing data for model NORMAL, 2/2\n",
      "Running model NORMAL\n"
     ]
    },
    {
     "data": {
      "application/vnd.jupyter.widget-view+json": {
       "model_id": "72e03207ebb445fe8b75f068d0b8c2e9",
       "version_major": 2,
       "version_minor": 0
      },
      "text/plain": [
       "  0%|          | 0/5500 [00:00<?, ?it/s]"
      ]
     },
     "metadata": {},
     "output_type": "display_data"
    },
    {
     "name": "stdout",
     "output_type": "stream",
     "text": [
      "CPU times: user 39.9 s, sys: 862 ms, total: 40.7 s\n",
      "Wall time: 38.8 s\n"
     ]
    }
   ],
   "source": [
    "%%time\n",
    "from crispr_millipede import encoding as cme\n",
    "from crispr_millipede import modelling as cmm\n",
    "\n",
    "# Run Millipede on the GPU, could also run on CPU by setting device=cmm.MillipedeComputeDevice.CPU \n",
    "paired_end_experiments_models_denoised = cmm.MillipedeModelExperimentalGroup(experiments_inputdata=paired_end_experiments_inputdata_denoised, device=cmm.MillipedeComputeDevice.GPU)"
   ]
  },
  {
   "cell_type": "code",
   "execution_count": 25,
   "id": "3b163346",
   "metadata": {},
   "outputs": [
    {
     "data": {
      "text/plain": [
       "229C>T                 0.300398\n",
       "154G>A                 0.272165\n",
       "201G>A                 0.200340\n",
       "Intercept              0.195948\n",
       "227C>T                 0.127153\n",
       "221G>A                 0.077451\n",
       "202G>A                 0.067098\n",
       "214G>A                 0.062200\n",
       "184G>A                 0.048890\n",
       "140C>T                 0.029899\n",
       "174C>T                 0.028112\n",
       "27C>T                  0.022725\n",
       "181C>T                 0.013418\n",
       "122C>T                 0.012518\n",
       "238G>A                 0.011478\n",
       "134G>A                 0.011130\n",
       "200G>A                 0.010669\n",
       "139C>T                 0.008606\n",
       "intercept_exp0_rep2    0.006843\n",
       "166G>A                 0.006438\n",
       "188G>A                 0.006293\n",
       "182C>T                 0.006020\n",
       "173C>T                 0.004676\n",
       "149C>T                 0.004529\n",
       "intercept_exp0_rep0    0.003964\n",
       "203G>A                 0.003687\n",
       "231G>A                 0.003679\n",
       "123C>T                 0.003619\n",
       "156C>T                 0.002889\n",
       "172G>A                 0.002697\n",
       "135C>T                 0.002272\n",
       "175C>T                 0.002035\n",
       "222G>A                 0.002002\n",
       "143C>T                 0.001687\n",
       "198C>T                 0.001683\n",
       "138C>T                 0.001641\n",
       "219C>T                 0.001471\n",
       "136C>T                 0.001338\n",
       "37G>A                  0.001330\n",
       "232C>T                 0.001071\n",
       "Name: Coefficient, dtype: float64"
      ]
     },
     "metadata": {},
     "output_type": "display_data"
    },
    {
     "data": {
      "text/plain": [
       "154G>A    0.999990\n",
       "229C>T    0.811464\n",
       "201G>A    0.582983\n",
       "227C>T    0.417559\n",
       "214G>A    0.265081\n",
       "221G>A    0.251152\n",
       "174C>T    0.142867\n",
       "27C>T     0.142571\n",
       "202G>A    0.128172\n",
       "184G>A    0.078540\n",
       "140C>T    0.058378\n",
       "238G>A    0.046976\n",
       "271G>A    0.041889\n",
       "29G>A     0.041766\n",
       "24G>A     0.041099\n",
       "134G>A    0.040080\n",
       "139C>T    0.030038\n",
       "122C>T    0.029649\n",
       "181C>T    0.028574\n",
       "200G>A    0.027193\n",
       "109C>T    0.024795\n",
       "149C>T    0.024633\n",
       "182C>T    0.022771\n",
       "108C>T    0.022683\n",
       "208C>T    0.022292\n",
       "111C>T    0.022267\n",
       "173C>T    0.021168\n",
       "166G>A    0.020948\n",
       "188G>A    0.019319\n",
       "259C>T    0.018685\n",
       "231G>A    0.017941\n",
       "263G>A    0.017280\n",
       "269G>A    0.016883\n",
       "34G>A     0.015577\n",
       "197C>T    0.015268\n",
       "132C>T    0.014759\n",
       "222G>A    0.014657\n",
       "172G>A    0.014538\n",
       "210C>T    0.014368\n",
       "123C>T    0.014300\n",
       "Name: PIP, dtype: float64"
      ]
     },
     "metadata": {},
     "output_type": "display_data"
    }
   ],
   "source": [
    "# Get the Beta and PIP coefficients\n",
    "beta_df = paired_end_experiments_models_denoised.millipede_model_specification_set_with_results['joint_replicate_per_experiment_models'].millipede_model_specification_result_input[0].millipede_model_specification_single_matrix_result[cmm.MillipedeModelType.NORMAL_SIGMA_SCALED].beta\n",
    "pip_df = paired_end_experiments_models_denoised.millipede_model_specification_set_with_results['joint_replicate_per_experiment_models'].millipede_model_specification_result_input[0].millipede_model_specification_single_matrix_result[cmm.MillipedeModelType.NORMAL_SIGMA_SCALED].pip\n",
    "display(beta_df.sort_values(ascending=False).head(40))\n",
    "display(pip_df.sort_values(ascending=False).head(40))"
   ]
  },
  {
   "cell_type": "code",
   "execution_count": 120,
   "id": "a74603ec",
   "metadata": {},
   "outputs": [
    {
     "data": {
      "text/html": [
       "<div>\n",
       "<style scoped>\n",
       "    .dataframe tbody tr th:only-of-type {\n",
       "        vertical-align: middle;\n",
       "    }\n",
       "\n",
       "    .dataframe tbody tr th {\n",
       "        vertical-align: top;\n",
       "    }\n",
       "\n",
       "    .dataframe thead th {\n",
       "        text-align: right;\n",
       "    }\n",
       "</style>\n",
       "<table border=\"1\" class=\"dataframe\">\n",
       "  <thead>\n",
       "    <tr style=\"text-align: right;\">\n",
       "      <th></th>\n",
       "      <th>PIP</th>\n",
       "      <th>Coefficient</th>\n",
       "      <th>Coefficient StdDev</th>\n",
       "      <th>Conditional Coefficient</th>\n",
       "      <th>Conditional Coefficient StdDev</th>\n",
       "    </tr>\n",
       "  </thead>\n",
       "  <tbody>\n",
       "    <tr>\n",
       "      <th>24G&gt;A</th>\n",
       "      <td>0.028416</td>\n",
       "      <td>-0.011663</td>\n",
       "      <td>0.069974</td>\n",
       "      <td>-0.328111</td>\n",
       "      <td>0.184160</td>\n",
       "    </tr>\n",
       "    <tr>\n",
       "      <th>25G&gt;A</th>\n",
       "      <td>0.006584</td>\n",
       "      <td>-0.000977</td>\n",
       "      <td>0.020014</td>\n",
       "      <td>-0.149845</td>\n",
       "      <td>0.197826</td>\n",
       "    </tr>\n",
       "    <tr>\n",
       "      <th>26G&gt;A</th>\n",
       "      <td>0.005223</td>\n",
       "      <td>-0.000565</td>\n",
       "      <td>0.024931</td>\n",
       "      <td>-0.053036</td>\n",
       "      <td>0.235704</td>\n",
       "    </tr>\n",
       "    <tr>\n",
       "      <th>27C&gt;T</th>\n",
       "      <td>0.010591</td>\n",
       "      <td>0.002447</td>\n",
       "      <td>0.022295</td>\n",
       "      <td>0.171936</td>\n",
       "      <td>0.076095</td>\n",
       "    </tr>\n",
       "    <tr>\n",
       "      <th>29G&gt;A</th>\n",
       "      <td>0.031958</td>\n",
       "      <td>-0.018400</td>\n",
       "      <td>0.102294</td>\n",
       "      <td>-0.459131</td>\n",
       "      <td>0.242402</td>\n",
       "    </tr>\n",
       "    <tr>\n",
       "      <th>...</th>\n",
       "      <td>...</td>\n",
       "      <td>...</td>\n",
       "      <td>...</td>\n",
       "      <td>...</td>\n",
       "      <td>...</td>\n",
       "    </tr>\n",
       "    <tr>\n",
       "      <th>272G&gt;A</th>\n",
       "      <td>0.005834</td>\n",
       "      <td>0.000517</td>\n",
       "      <td>0.022364</td>\n",
       "      <td>0.060438</td>\n",
       "      <td>0.234307</td>\n",
       "    </tr>\n",
       "    <tr>\n",
       "      <th>intercept_exp0_rep0</th>\n",
       "      <td>NaN</td>\n",
       "      <td>0.002901</td>\n",
       "      <td>0.027327</td>\n",
       "      <td>0.002901</td>\n",
       "      <td>0.027327</td>\n",
       "    </tr>\n",
       "    <tr>\n",
       "      <th>intercept_exp0_rep1</th>\n",
       "      <td>NaN</td>\n",
       "      <td>-0.007188</td>\n",
       "      <td>0.027394</td>\n",
       "      <td>-0.007188</td>\n",
       "      <td>0.027394</td>\n",
       "    </tr>\n",
       "    <tr>\n",
       "      <th>intercept_exp0_rep2</th>\n",
       "      <td>NaN</td>\n",
       "      <td>0.005613</td>\n",
       "      <td>0.028612</td>\n",
       "      <td>0.005613</td>\n",
       "      <td>0.028612</td>\n",
       "    </tr>\n",
       "    <tr>\n",
       "      <th>Intercept</th>\n",
       "      <td>NaN</td>\n",
       "      <td>0.182835</td>\n",
       "      <td>2.260845</td>\n",
       "      <td>0.182835</td>\n",
       "      <td>2.260845</td>\n",
       "    </tr>\n",
       "  </tbody>\n",
       "</table>\n",
       "<p>114 rows × 5 columns</p>\n",
       "</div>"
      ],
      "text/plain": [
       "                          PIP  Coefficient  Coefficient StdDev  \\\n",
       "24G>A                0.028416    -0.011663            0.069974   \n",
       "25G>A                0.006584    -0.000977            0.020014   \n",
       "26G>A                0.005223    -0.000565            0.024931   \n",
       "27C>T                0.010591     0.002447            0.022295   \n",
       "29G>A                0.031958    -0.018400            0.102294   \n",
       "...                       ...          ...                 ...   \n",
       "272G>A               0.005834     0.000517            0.022364   \n",
       "intercept_exp0_rep0       NaN     0.002901            0.027327   \n",
       "intercept_exp0_rep1       NaN    -0.007188            0.027394   \n",
       "intercept_exp0_rep2       NaN     0.005613            0.028612   \n",
       "Intercept                 NaN     0.182835            2.260845   \n",
       "\n",
       "                     Conditional Coefficient  Conditional Coefficient StdDev  \n",
       "24G>A                              -0.328111                        0.184160  \n",
       "25G>A                              -0.149845                        0.197826  \n",
       "26G>A                              -0.053036                        0.235704  \n",
       "27C>T                               0.171936                        0.076095  \n",
       "29G>A                              -0.459131                        0.242402  \n",
       "...                                      ...                             ...  \n",
       "272G>A                              0.060438                        0.234307  \n",
       "intercept_exp0_rep0                 0.002901                        0.027327  \n",
       "intercept_exp0_rep1                -0.007188                        0.027394  \n",
       "intercept_exp0_rep2                 0.005613                        0.028612  \n",
       "Intercept                           0.182835                        2.260845  \n",
       "\n",
       "[114 rows x 5 columns]"
      ]
     },
     "execution_count": 120,
     "metadata": {},
     "output_type": "execute_result"
    }
   ],
   "source": [
    "sigma_hit_table = paired_end_experiments_models_denoised.millipede_model_specification_set_with_results[\"joint_replicate_per_experiment_models\"].millipede_model_specification_result_input[0].millipede_model_specification_single_matrix_result[cmm.MillipedeModelType.NORMAL_SIGMA_SCALED].summary\n",
    "sigma_hit_table.to_csv('CD19_evoCDA_sigma_hit_table_ZP.csv', index=True)\n",
    "sigma_hit_table"
   ]
  }
 ],
 "metadata": {
  "kernelspec": {
   "display_name": "Python [conda env:MilliV2]",
   "language": "python",
   "name": "conda-env-MilliV2-py"
  },
  "language_info": {
   "codemirror_mode": {
    "name": "ipython",
    "version": 3
   },
   "file_extension": ".py",
   "mimetype": "text/x-python",
   "name": "python",
   "nbconvert_exporter": "python",
   "pygments_lexer": "ipython3",
   "version": "3.10.14"
  }
 },
 "nbformat": 4,
 "nbformat_minor": 5
}
