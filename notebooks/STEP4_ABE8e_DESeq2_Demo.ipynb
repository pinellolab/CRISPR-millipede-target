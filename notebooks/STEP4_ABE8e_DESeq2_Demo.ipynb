{
 "cells": [
  {
   "cell_type": "markdown",
   "id": "244d88f6",
   "metadata": {},
   "source": [
    "# Run ABE8e DESeq2 Model"
   ]
  },
  {
   "cell_type": "markdown",
   "id": "ff686a7d",
   "metadata": {},
   "source": [
    "### Prepare Data Input\n",
    "\n",
    "You will only need the encoding output from the previous step. You can also download the pre-computed encoding from [Zenodo](https://doi.org/10.5281/zenodo.13737880) at path: \n",
    "- CRISPR-CLEAR-data/data/encoding_output/20240807_v0_1_84_encoding_dataframes_denoised_removed_ABE8e_encodings_rep0.tsv\n",
    "- CRISPR-CLEAR-data/data/encoding_output/20240807_v0_1_84_encoding_dataframes_denoised_removed_ABE8e_encodings_rep1.tsv\n",
    "- CRISPR-CLEAR-data/data/encoding_output/20240807_v0_1_84_encoding_dataframes_denoised_removed_ABE8e_encodings_rep2.tsv"
   ]
  },
  {
   "cell_type": "markdown",
   "id": "a207e291",
   "metadata": {},
   "source": [
    "### Import Packages"
   ]
  },
  {
   "cell_type": "code",
   "execution_count": null,
   "id": "6350a8e1",
   "metadata": {},
   "outputs": [],
   "source": [
    "from crispr_millipede import encoding as cme\n",
    "from crispr_millipede import modelling as cmm\n",
    "\n",
    "import plotly\n",
    "import plotly.graph_objects as go\n",
    "import plotly.express as px\n",
    "\n",
    "import pandas as pd\n",
    "import numpy as np\n",
    "\n",
    "from pydeseq2.dds import DeseqDataSet\n",
    "from pydeseq2.default_inference import DefaultInference\n",
    "from pydeseq2.ds import DeseqStats\n",
    "from pydeseq2.utils import load_example_data"
   ]
  },
  {
   "cell_type": "markdown",
   "id": "a8c6b87d",
   "metadata": {},
   "source": [
    "### Prepare Millipede specification parameters"
   ]
  },
  {
   "cell_type": "code",
   "execution_count": null,
   "id": "bfbb470e",
   "metadata": {},
   "outputs": [],
   "source": [
    "design_matrix_spec = cmm.MillipedeDesignMatrixProcessingSpecification(\n",
    "    wt_normalization=False,\n",
    "    total_normalization=True,\n",
    "    sigma_scale_normalized=True,\n",
    "    decay_sigma_scale=True,\n",
    "    K_enriched=5,\n",
    "    K_baseline=5,\n",
    "    a_parameter=0.0005,\n",
    "    set_offset_as_presort = True,\n",
    "    offset_normalized = False,\n",
    "    offset_psuedocount = 1 # OTHERWISE will get infinity error when taking log(count +1) for offset, since 0 counts could be acceptable depending on thresholding\n",
    ")\n",
    "\n",
    "millipede_model_specification_set = {\n",
    "    \"joint_replicate_per_experiment_models\" : cmm.MillipedeModelSpecification(\n",
    "        model_types=[cmm.MillipedeModelType.NORMAL_SIGMA_SCALED, cmm.MillipedeModelType.NORMAL],\n",
    "        replicate_merge_strategy=cmm.MillipedeReplicateMergeStrategy.COVARIATE,\n",
    "        experiment_merge_strategy=cmm.MillipedeExperimentMergeStrategy.SEPARATE,\n",
    "        S = 5,\n",
    "        tau = 0.01,\n",
    "        tau_intercept = 0.0001,\n",
    "        cutoff_specification=cmm.MillipedeCutoffSpecification(\n",
    "            per_replicate_each_condition_num_cutoff = 0, \n",
    "            per_replicate_all_condition_num_cutoff = 1, \n",
    "            all_replicate_num_cutoff = 0, \n",
    "            all_experiment_num_cutoff = 0,\n",
    "            baseline_pop_all_condition_each_replicate_num_cutoff = 3,\n",
    "            baseline_pop_all_condition_acceptable_rep_count = 2,\n",
    "            enriched_pop_all_condition_each_replicate_num_cutoff = 3,\n",
    "            enriched_pop_all_condition_acceptable_rep_count = 2,\n",
    "            presort_pop_all_condition_each_replicate_num_cutoff = 3,\n",
    "            presort_pop_all_condition_acceptable_rep_count = 2,\n",
    "            \n",
    "        ),\n",
    "        design_matrix_processing_specification=design_matrix_spec\n",
    "    )\n",
    "}"
   ]
  },
  {
   "cell_type": "code",
   "execution_count": null,
   "id": "8c4ee680",
   "metadata": {},
   "outputs": [],
   "source": [
    "paired_end_experiments_inputdata_denoised = cmm.MillipedeInputDataExperimentalGroup(\n",
    "    data_directory=\"./\", \n",
    "    enriched_pop_fn_experiment_list = [\"20240807_v0_1_84_encoding_dataframes_denoised_removed_ABE8e_encodings_rep{}.tsv\"],\n",
    "    enriched_pop_df_reads_colname = \"#Reads_CD19minus\",\n",
    "    baseline_pop_fn_experiment_list = [\"20240807_v0_1_84_encoding_dataframes_denoised_removed_ABE8e_encodings_rep{}.tsv\"],\n",
    "    baseline_pop_df_reads_colname = \"#Reads_CD19plus\", \n",
    "    presort_pop_fn_experiment_list = [\"20240807_v0_1_84_encoding_dataframes_denoised_removed_ABE8e_encodings_rep{}.tsv\"],\n",
    "    presort_pop_df_reads_colname = '#Reads_presort',\n",
    "    experiment_labels = [\"ABE8e\"],\n",
    "    reps = [0,1,2],\n",
    "    millipede_model_specification_set = millipede_model_specification_set\n",
    "   )"
   ]
  },
  {
   "cell_type": "markdown",
   "id": "1996087f",
   "metadata": {},
   "source": [
    "### Prepare DESeq2 count matrix"
   ]
  },
  {
   "cell_type": "code",
   "execution_count": null,
   "id": "14cc9738",
   "metadata": {},
   "outputs": [],
   "source": [
    "data = paired_end_experiments_inputdata_denoised.millipede_model_specification_set_with_data['joint_replicate_per_experiment_models'][1].data[0]\n",
    "alleles = [data[data['intercept_exp0_rep0'] == 1], data[data['intercept_exp0_rep1'] == 1], data[data['intercept_exp0_rep2'] == 1]]"
   ]
  },
  {
   "cell_type": "code",
   "execution_count": null,
   "id": "3f4cce7c",
   "metadata": {},
   "outputs": [],
   "source": [
    "allele_tables = []\n",
    "\n",
    "for rep in range(3):\n",
    "    cols = list(alleles[rep].columns.values)\n",
    "    restricted_cols = [col for col in cols if \">\" in col]\n",
    "    \n",
    "    label = []\n",
    "    edits = []\n",
    "    \n",
    "    minus = []\n",
    "    plus = []\n",
    "    presort = []    \n",
    "\n",
    "    for index, row in alleles[rep].iterrows():\n",
    "        row_restricted = row[restricted_cols]\n",
    "        cols_selected = row_restricted[row_restricted == 1].index.tolist()\n",
    "        \n",
    "        allele = amplicon\n",
    "        for col in cols_selected:\n",
    "            demarker = col.find(\">\")\n",
    "            pos = int(col[:demarker - 1])\n",
    "            alt = col[demarker+1:]\n",
    "            allele = allele[:pos] + alt + allele[pos + 1:]\n",
    "                 \n",
    "        if len(cols_selected) == 0:\n",
    "            edits.append(\"wt\")\n",
    "        else:\n",
    "            edits.append(\",\".join(cols_selected))\n",
    "        \n",
    "        minus.append(row[\"#Reads_CD19minus_raw\"])\n",
    "        plus.append(row[\"#Reads_CD19plus_raw\"])\n",
    "        \n",
    "    dicto = {\"edits\": edits,\n",
    "             \"CD19minus_rep\" + str(rep + 1): minus,\n",
    "             \"CD19plus_rep\" + str(rep + 1): plus}\n",
    "    \n",
    "    allele_tables.append(pd.DataFrame(dicto).set_index(\"edits\"))"
   ]
  },
  {
   "cell_type": "code",
   "execution_count": null,
   "id": "35ffd2fb",
   "metadata": {},
   "outputs": [],
   "source": [
    "merged_df = pd.merge(allele_tables[0], allele_tables[1], on='edits', how='outer').fillna(0)\n",
    "merged_df = pd.merge(merged_df, allele_tables[2], on='edits', how='outer').fillna(0)"
   ]
  },
  {
   "cell_type": "code",
   "execution_count": null,
   "id": "c080c55c",
   "metadata": {},
   "outputs": [],
   "source": [
    "count_df = merged_df.T\n",
    "count_df.index.names = ['sample']"
   ]
  },
  {
   "cell_type": "code",
   "execution_count": null,
   "id": "f80ac11a",
   "metadata": {},
   "outputs": [],
   "source": [
    "count_df"
   ]
  },
  {
   "cell_type": "markdown",
   "id": "2cd6a521",
   "metadata": {},
   "source": [
    "### Prepare DESeq2 design matrix"
   ]
  },
  {
   "cell_type": "code",
   "execution_count": null,
   "id": "30aac81f",
   "metadata": {},
   "outputs": [],
   "source": [
    "samples = list(count_df.index)\n",
    "condition = [\"CD19-\", \"CD19+\"] * 3\n",
    "replicate = [1, 1, 2, 2, 3, 3]\n",
    "metadata_dict = {\"sample\": samples,\n",
    "                 \"condition\": condition,\n",
    "                 \"replicate\": replicate}\n",
    "\n",
    "metadata_df = pd.DataFrame(metadata_dict).set_index(\"sample\")"
   ]
  },
  {
   "cell_type": "code",
   "execution_count": null,
   "id": "72fc88f5",
   "metadata": {},
   "outputs": [],
   "source": [
    "metadata_df"
   ]
  },
  {
   "cell_type": "markdown",
   "id": "c6e835d6",
   "metadata": {},
   "source": [
    "### Run DESeq2"
   ]
  },
  {
   "cell_type": "code",
   "execution_count": null,
   "id": "60f463d7",
   "metadata": {},
   "outputs": [],
   "source": [
    "inference = DefaultInference(n_cpus=8)\n",
    "dds = DeseqDataSet(\n",
    "    counts=count_df,\n",
    "    metadata=metadata_df,\n",
    "    design_factors=\"condition\",\n",
    "    refit_cooks=True,\n",
    "    inference=inference,\n",
    "    # n_cpus=8, # n_cpus can be specified here or in the inference object\n",
    ")"
   ]
  },
  {
   "cell_type": "code",
   "execution_count": null,
   "id": "e7b9f9cd",
   "metadata": {
    "scrolled": false
   },
   "outputs": [],
   "source": [
    "dds.deseq2()"
   ]
  },
  {
   "cell_type": "code",
   "execution_count": null,
   "id": "5e8b3000",
   "metadata": {},
   "outputs": [],
   "source": [
    "stat_res = DeseqStats(dds, inference=inference)"
   ]
  },
  {
   "cell_type": "markdown",
   "id": "da089dfd",
   "metadata": {},
   "source": [
    "### Visualize "
   ]
  },
  {
   "cell_type": "code",
   "execution_count": null,
   "id": "ac3f56d6",
   "metadata": {},
   "outputs": [],
   "source": [
    "results_df = stat_res.results_df\n",
    "results_df = results_df[['log2FoldChange','pvalue']].dropna()\n",
    "negative_log = np.log10(list(results_df[\"pvalue\"])) * -10\n",
    "results_df[\"-10 * log(pvalue)\"] = negative_log"
   ]
  },
  {
   "cell_type": "code",
   "execution_count": null,
   "id": "d87bc109",
   "metadata": {},
   "outputs": [],
   "source": [
    "results_df"
   ]
  },
  {
   "cell_type": "code",
   "execution_count": null,
   "id": "6550c583",
   "metadata": {},
   "outputs": [],
   "source": [
    "lfc = list(results_df['log2FoldChange'])\n",
    "negative_log_pvalue = list(results_df['-10 * log(pvalue)'])\n",
    "colors = []\n",
    "\n",
    "for i in range(len(lfc)):\n",
    "    if lfc[i] > 5 and negative_log_pvalue[i] > 10:\n",
    "        colors.append(\"red\")\n",
    "    elif lfc[i] < -5 and negative_log_pvalue[i] > 10:\n",
    "        colors.append(\"red\")\n",
    "    else:\n",
    "        colors.append(\"blue\")"
   ]
  },
  {
   "cell_type": "code",
   "execution_count": null,
   "id": "f754414b",
   "metadata": {},
   "outputs": [],
   "source": [
    "fig = go.Figure()\n",
    "scatter = go.Scatter(\n",
    "    x=results_df['log2FoldChange'] * -1,\n",
    "    y=results_df['-10 * log(pvalue)'],\n",
    "    mode='markers',\n",
    "    marker=dict(color=colors, size=6, opacity=0.5),\n",
    "    hovertext=list(results_df.index)\n",
    ")\n",
    "\n",
    "fig.update_layout(\n",
    "    showlegend=False,\n",
    "    xaxis=dict(title=\"LFC [CD19+ vs CD19-]\", title_font=dict(size=18), range=[-10, 10], showgrid = False, zeroline = False, ticks='outside', ticklen = 10, tickfont=dict(size=15)),\n",
    "    yaxis=dict(title=\"-10 * log10(pvalue)\", title_font=dict(size=18), range=[-0, 40], showgrid = False, zeroline = False, ticks='outside', ticklen = 10, tickfont=dict(size=15)),\n",
    "    plot_bgcolor='white'\n",
    ")\n",
    "\n",
    "fig.add_trace(scatter)\n",
    "\n",
    "ythresh = go.Scatter(\n",
    "    x=[fig.layout.xaxis.range[0], fig.layout.xaxis.range[1]],\n",
    "    y=[10, 10],\n",
    "    mode='lines',\n",
    "    line=dict(color='black', dash='dash', width = 1)\n",
    ")\n",
    "\n",
    "xthresh1 = go.Scatter(\n",
    "    x=[-5, -5],\n",
    "    y=[fig.layout.yaxis.range[0], fig.layout.yaxis.range[1]],\n",
    "    mode='lines',\n",
    "    line=dict(color='black', dash='dash', width = 1)\n",
    ")\n",
    "xthresh2 = go.Scatter(\n",
    "    x=[5, 5],\n",
    "    y=[fig.layout.yaxis.range[0], fig.layout.yaxis.range[1]],\n",
    "    mode='lines',\n",
    "    line=dict(color='black', dash='dash', width = 1)\n",
    ")\n",
    "\n",
    "fig.update_xaxes(showline=True, linewidth=1, linecolor='black')\n",
    "fig.update_yaxes(showline=True, linewidth=1, linecolor='black')\n",
    "\n",
    "fig.add_trace(ythresh)\n",
    "fig.add_trace(xthresh1)\n",
    "fig.add_trace(xthresh2)\n",
    "\n",
    "fig.show()\n",
    "\n",
    "fig.write_image(\"ABE8e_allelic_analysis.svg\")"
   ]
  }
 ],
 "metadata": {
  "kernelspec": {
   "display_name": "Python [conda env:MilliV2]",
   "language": "python",
   "name": "conda-env-MilliV2-py"
  },
  "language_info": {
   "codemirror_mode": {
    "name": "ipython",
    "version": 3
   },
   "file_extension": ".py",
   "mimetype": "text/x-python",
   "name": "python",
   "nbconvert_exporter": "python",
   "pygments_lexer": "ipython3",
   "version": "3.10.14"
  }
 },
 "nbformat": 4,
 "nbformat_minor": 5
}
