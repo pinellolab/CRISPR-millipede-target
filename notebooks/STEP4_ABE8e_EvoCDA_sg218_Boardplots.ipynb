{
 "cells": [
  {
   "cell_type": "code",
   "execution_count": 3,
   "id": "41220bab",
   "metadata": {},
   "outputs": [
    {
     "name": "stdout",
     "output_type": "stream",
     "text": [
      "Collecting crispr-millipede==0.1.97\n",
      "  Downloading crispr_millipede-0.1.97-py3-none-any.whl.metadata (936 bytes)\n",
      "Requirement already satisfied: biopython<2.0,>=1.81 in /data/pinello/SHARED_SOFTWARE/anaconda_latest/envs/MilliV2/lib/python3.10/site-packages (from crispr-millipede==0.1.97) (1.83)\n",
      "Requirement already satisfied: crispr-shrinkage==0.1.63 in /data/pinello/SHARED_SOFTWARE/anaconda_latest/envs/MilliV2/lib/python3.10/site-packages (from crispr-millipede==0.1.97) (0.1.63)\n",
      "Requirement already satisfied: ipywidgets<9.0.0,>=8.1.2 in /data/pinello/SHARED_SOFTWARE/anaconda_latest/envs/MilliV2/lib/python3.10/site-packages (from crispr-millipede==0.1.97) (8.1.3)\n",
      "Requirement already satisfied: kaleido==0.2.1 in /data/pinello/SHARED_SOFTWARE/anaconda_latest/envs/MilliV2/lib/python3.10/site-packages (from crispr-millipede==0.1.97) (0.2.1)\n",
      "Requirement already satisfied: matplotlib<4.0.0,>=3.7.1 in /data/pinello/SHARED_SOFTWARE/anaconda_latest/envs/MilliV2/lib/python3.10/site-packages (from crispr-millipede==0.1.97) (3.8.4)\n",
      "Requirement already satisfied: millipede-regression==0.1.6 in /data/pinello/SHARED_SOFTWARE/anaconda_latest/envs/MilliV2/lib/python3.10/site-packages (from crispr-millipede==0.1.97) (0.1.6)\n",
      "Requirement already satisfied: nbformat>=4.2.0 in /data/pinello/SHARED_SOFTWARE/anaconda_latest/envs/MilliV2/lib/python3.10/site-packages (from crispr-millipede==0.1.97) (5.10.4)\n",
      "Requirement already satisfied: numpy==1.24.4 in /data/pinello/SHARED_SOFTWARE/anaconda_latest/envs/MilliV2/lib/python3.10/site-packages (from crispr-millipede==0.1.97) (1.24.4)\n",
      "Requirement already satisfied: pandarallel<2.0.0,>=1.6.4 in /data/pinello/SHARED_SOFTWARE/anaconda_latest/envs/MilliV2/lib/python3.10/site-packages (from crispr-millipede==0.1.97) (1.6.5)\n",
      "Requirement already satisfied: pandas<2.0.0,>=1.5.3 in /data/pinello/SHARED_SOFTWARE/anaconda_latest/envs/MilliV2/lib/python3.10/site-packages (from crispr-millipede==0.1.97) (1.5.3)\n",
      "Requirement already satisfied: plotly==5.9.0 in /data/pinello/SHARED_SOFTWARE/anaconda_latest/envs/MilliV2/lib/python3.10/site-packages (from crispr-millipede==0.1.97) (5.9.0)\n",
      "Requirement already satisfied: pydeseq2==0.4.4 in /data/pinello/SHARED_SOFTWARE/anaconda_latest/envs/MilliV2/lib/python3.10/site-packages (from crispr-millipede==0.1.97) (0.4.4)\n",
      "Requirement already satisfied: scipy<2.0.0,>=1.10.1 in /data/pinello/SHARED_SOFTWARE/anaconda_latest/envs/MilliV2/lib/python3.10/site-packages (from crispr-millipede==0.1.97) (1.13.0)\n",
      "Requirement already satisfied: seaborn<0.14.0,>=0.13.2 in /data/pinello/SHARED_SOFTWARE/anaconda_latest/envs/MilliV2/lib/python3.10/site-packages (from crispr-millipede==0.1.97) (0.13.2)\n",
      "Requirement already satisfied: typeguard<4.0.0,>=3.0.2 in /data/pinello/SHARED_SOFTWARE/anaconda_latest/envs/MilliV2/lib/python3.10/site-packages (from crispr-millipede==0.1.97) (3.0.2)\n",
      "Requirement already satisfied: torch in /data/pinello/SHARED_SOFTWARE/anaconda_latest/envs/MilliV2/lib/python3.10/site-packages (from millipede-regression==0.1.6->crispr-millipede==0.1.97) (2.2.2)\n",
      "Requirement already satisfied: polyagamma==2.0.0 in /data/pinello/SHARED_SOFTWARE/anaconda_latest/envs/MilliV2/lib/python3.10/site-packages (from millipede-regression==0.1.6->crispr-millipede==0.1.97) (2.0.0)\n",
      "Requirement already satisfied: tqdm in /data/pinello/SHARED_SOFTWARE/anaconda_latest/envs/MilliV2/lib/python3.10/site-packages (from millipede-regression==0.1.6->crispr-millipede==0.1.97) (4.66.2)\n",
      "Requirement already satisfied: tenacity>=6.2.0 in /data/pinello/SHARED_SOFTWARE/anaconda_latest/envs/MilliV2/lib/python3.10/site-packages (from plotly==5.9.0->crispr-millipede==0.1.97) (8.3.0)\n",
      "Requirement already satisfied: anndata>=0.8.0 in /data/pinello/SHARED_SOFTWARE/anaconda_latest/envs/MilliV2/lib/python3.10/site-packages (from pydeseq2==0.4.4->crispr-millipede==0.1.97) (0.10.7)\n",
      "Requirement already satisfied: scikit-learn>=1.1.0 in /data/pinello/SHARED_SOFTWARE/anaconda_latest/envs/MilliV2/lib/python3.10/site-packages (from pydeseq2==0.4.4->crispr-millipede==0.1.97) (1.5.0)\n",
      "Requirement already satisfied: statsmodels in /data/pinello/SHARED_SOFTWARE/anaconda_latest/envs/MilliV2/lib/python3.10/site-packages (from pydeseq2==0.4.4->crispr-millipede==0.1.97) (0.14.2)\n",
      "Requirement already satisfied: comm>=0.1.3 in /data/pinello/SHARED_SOFTWARE/anaconda_latest/envs/MilliV2/lib/python3.10/site-packages (from ipywidgets<9.0.0,>=8.1.2->crispr-millipede==0.1.97) (0.2.2)\n",
      "Requirement already satisfied: ipython>=6.1.0 in /data/pinello/SHARED_SOFTWARE/anaconda_latest/envs/MilliV2/lib/python3.10/site-packages (from ipywidgets<9.0.0,>=8.1.2->crispr-millipede==0.1.97) (8.22.2)\n",
      "Requirement already satisfied: traitlets>=4.3.1 in /data/pinello/SHARED_SOFTWARE/anaconda_latest/envs/MilliV2/lib/python3.10/site-packages (from ipywidgets<9.0.0,>=8.1.2->crispr-millipede==0.1.97) (5.14.2)\n",
      "Requirement already satisfied: widgetsnbextension~=4.0.11 in /data/pinello/SHARED_SOFTWARE/anaconda_latest/envs/MilliV2/lib/python3.10/site-packages (from ipywidgets<9.0.0,>=8.1.2->crispr-millipede==0.1.97) (4.0.11)\n",
      "Requirement already satisfied: jupyterlab-widgets~=3.0.11 in /data/pinello/SHARED_SOFTWARE/anaconda_latest/envs/MilliV2/lib/python3.10/site-packages (from ipywidgets<9.0.0,>=8.1.2->crispr-millipede==0.1.97) (3.0.11)\n",
      "Requirement already satisfied: contourpy>=1.0.1 in /data/pinello/SHARED_SOFTWARE/anaconda_latest/envs/MilliV2/lib/python3.10/site-packages (from matplotlib<4.0.0,>=3.7.1->crispr-millipede==0.1.97) (1.2.1)\n",
      "Requirement already satisfied: cycler>=0.10 in /data/pinello/SHARED_SOFTWARE/anaconda_latest/envs/MilliV2/lib/python3.10/site-packages (from matplotlib<4.0.0,>=3.7.1->crispr-millipede==0.1.97) (0.12.1)\n",
      "Requirement already satisfied: fonttools>=4.22.0 in /data/pinello/SHARED_SOFTWARE/anaconda_latest/envs/MilliV2/lib/python3.10/site-packages (from matplotlib<4.0.0,>=3.7.1->crispr-millipede==0.1.97) (4.51.0)\n",
      "Requirement already satisfied: kiwisolver>=1.3.1 in /data/pinello/SHARED_SOFTWARE/anaconda_latest/envs/MilliV2/lib/python3.10/site-packages (from matplotlib<4.0.0,>=3.7.1->crispr-millipede==0.1.97) (1.4.5)\n",
      "Requirement already satisfied: packaging>=20.0 in /data/pinello/SHARED_SOFTWARE/anaconda_latest/envs/MilliV2/lib/python3.10/site-packages (from matplotlib<4.0.0,>=3.7.1->crispr-millipede==0.1.97) (24.0)\n",
      "Requirement already satisfied: pillow>=8 in /data/pinello/SHARED_SOFTWARE/anaconda_latest/envs/MilliV2/lib/python3.10/site-packages (from matplotlib<4.0.0,>=3.7.1->crispr-millipede==0.1.97) (9.4.0)\n",
      "Requirement already satisfied: pyparsing>=2.3.1 in /data/pinello/SHARED_SOFTWARE/anaconda_latest/envs/MilliV2/lib/python3.10/site-packages (from matplotlib<4.0.0,>=3.7.1->crispr-millipede==0.1.97) (3.1.2)\n",
      "Requirement already satisfied: python-dateutil>=2.7 in /data/pinello/SHARED_SOFTWARE/anaconda_latest/envs/MilliV2/lib/python3.10/site-packages (from matplotlib<4.0.0,>=3.7.1->crispr-millipede==0.1.97) (2.9.0)\n",
      "Requirement already satisfied: fastjsonschema>=2.15 in /data/pinello/SHARED_SOFTWARE/anaconda_latest/envs/MilliV2/lib/python3.10/site-packages (from nbformat>=4.2.0->crispr-millipede==0.1.97) (2.19.1)\n",
      "Requirement already satisfied: jsonschema>=2.6 in /data/pinello/SHARED_SOFTWARE/anaconda_latest/envs/MilliV2/lib/python3.10/site-packages (from nbformat>=4.2.0->crispr-millipede==0.1.97) (4.22.0)\n",
      "Requirement already satisfied: jupyter-core!=5.0.*,>=4.12 in /data/pinello/SHARED_SOFTWARE/anaconda_latest/envs/MilliV2/lib/python3.10/site-packages (from nbformat>=4.2.0->crispr-millipede==0.1.97) (5.7.2)\n",
      "Requirement already satisfied: dill>=0.3.1 in /data/pinello/SHARED_SOFTWARE/anaconda_latest/envs/MilliV2/lib/python3.10/site-packages (from pandarallel<2.0.0,>=1.6.4->crispr-millipede==0.1.97) (0.3.8)\n",
      "Requirement already satisfied: psutil in /data/pinello/SHARED_SOFTWARE/anaconda_latest/envs/MilliV2/lib/python3.10/site-packages (from pandarallel<2.0.0,>=1.6.4->crispr-millipede==0.1.97) (5.9.8)\n",
      "Requirement already satisfied: pytz>=2020.1 in /data/pinello/SHARED_SOFTWARE/anaconda_latest/envs/MilliV2/lib/python3.10/site-packages (from pandas<2.0.0,>=1.5.3->crispr-millipede==0.1.97) (2024.1)\n",
      "Requirement already satisfied: typing-extensions>=4.4.0 in /data/pinello/SHARED_SOFTWARE/anaconda_latest/envs/MilliV2/lib/python3.10/site-packages (from typeguard<4.0.0,>=3.0.2->crispr-millipede==0.1.97) (4.11.0)\n",
      "Requirement already satisfied: array-api-compat!=1.5,>1.4 in /data/pinello/SHARED_SOFTWARE/anaconda_latest/envs/MilliV2/lib/python3.10/site-packages (from anndata>=0.8.0->pydeseq2==0.4.4->crispr-millipede==0.1.97) (1.7.1)\n",
      "Requirement already satisfied: exceptiongroup in /data/pinello/SHARED_SOFTWARE/anaconda_latest/envs/MilliV2/lib/python3.10/site-packages (from anndata>=0.8.0->pydeseq2==0.4.4->crispr-millipede==0.1.97) (1.2.0)\n",
      "Requirement already satisfied: h5py>=3.1 in /data/pinello/SHARED_SOFTWARE/anaconda_latest/envs/MilliV2/lib/python3.10/site-packages (from anndata>=0.8.0->pydeseq2==0.4.4->crispr-millipede==0.1.97) (3.11.0)\n",
      "Requirement already satisfied: natsort in /data/pinello/SHARED_SOFTWARE/anaconda_latest/envs/MilliV2/lib/python3.10/site-packages (from anndata>=0.8.0->pydeseq2==0.4.4->crispr-millipede==0.1.97) (8.4.0)\n"
     ]
    },
    {
     "name": "stdout",
     "output_type": "stream",
     "text": [
      "Requirement already satisfied: decorator in /data/pinello/SHARED_SOFTWARE/anaconda_latest/envs/MilliV2/lib/python3.10/site-packages (from ipython>=6.1.0->ipywidgets<9.0.0,>=8.1.2->crispr-millipede==0.1.97) (5.1.1)\n",
      "Requirement already satisfied: jedi>=0.16 in /data/pinello/SHARED_SOFTWARE/anaconda_latest/envs/MilliV2/lib/python3.10/site-packages (from ipython>=6.1.0->ipywidgets<9.0.0,>=8.1.2->crispr-millipede==0.1.97) (0.19.1)\n",
      "Requirement already satisfied: matplotlib-inline in /data/pinello/SHARED_SOFTWARE/anaconda_latest/envs/MilliV2/lib/python3.10/site-packages (from ipython>=6.1.0->ipywidgets<9.0.0,>=8.1.2->crispr-millipede==0.1.97) (0.1.6)\n",
      "Requirement already satisfied: prompt-toolkit<3.1.0,>=3.0.41 in /data/pinello/SHARED_SOFTWARE/anaconda_latest/envs/MilliV2/lib/python3.10/site-packages (from ipython>=6.1.0->ipywidgets<9.0.0,>=8.1.2->crispr-millipede==0.1.97) (3.0.42)\n",
      "Requirement already satisfied: pygments>=2.4.0 in /data/pinello/SHARED_SOFTWARE/anaconda_latest/envs/MilliV2/lib/python3.10/site-packages (from ipython>=6.1.0->ipywidgets<9.0.0,>=8.1.2->crispr-millipede==0.1.97) (2.17.2)\n",
      "Requirement already satisfied: stack-data in /data/pinello/SHARED_SOFTWARE/anaconda_latest/envs/MilliV2/lib/python3.10/site-packages (from ipython>=6.1.0->ipywidgets<9.0.0,>=8.1.2->crispr-millipede==0.1.97) (0.6.2)\n",
      "Requirement already satisfied: pexpect>4.3 in /data/pinello/SHARED_SOFTWARE/anaconda_latest/envs/MilliV2/lib/python3.10/site-packages (from ipython>=6.1.0->ipywidgets<9.0.0,>=8.1.2->crispr-millipede==0.1.97) (4.9.0)\n",
      "Requirement already satisfied: attrs>=22.2.0 in /data/pinello/SHARED_SOFTWARE/anaconda_latest/envs/MilliV2/lib/python3.10/site-packages (from jsonschema>=2.6->nbformat>=4.2.0->crispr-millipede==0.1.97) (23.2.0)\n",
      "Requirement already satisfied: jsonschema-specifications>=2023.03.6 in /data/pinello/SHARED_SOFTWARE/anaconda_latest/envs/MilliV2/lib/python3.10/site-packages (from jsonschema>=2.6->nbformat>=4.2.0->crispr-millipede==0.1.97) (2023.12.1)\n",
      "Requirement already satisfied: referencing>=0.28.4 in /data/pinello/SHARED_SOFTWARE/anaconda_latest/envs/MilliV2/lib/python3.10/site-packages (from jsonschema>=2.6->nbformat>=4.2.0->crispr-millipede==0.1.97) (0.35.1)\n",
      "Requirement already satisfied: rpds-py>=0.7.1 in /data/pinello/SHARED_SOFTWARE/anaconda_latest/envs/MilliV2/lib/python3.10/site-packages (from jsonschema>=2.6->nbformat>=4.2.0->crispr-millipede==0.1.97) (0.18.1)\n",
      "Requirement already satisfied: platformdirs>=2.5 in /data/pinello/SHARED_SOFTWARE/anaconda_latest/envs/MilliV2/lib/python3.10/site-packages (from jupyter-core!=5.0.*,>=4.12->nbformat>=4.2.0->crispr-millipede==0.1.97) (4.2.0)\n",
      "Requirement already satisfied: six>=1.5 in /data/pinello/SHARED_SOFTWARE/anaconda_latest/envs/MilliV2/lib/python3.10/site-packages (from python-dateutil>=2.7->matplotlib<4.0.0,>=3.7.1->crispr-millipede==0.1.97) (1.16.0)\n",
      "Requirement already satisfied: joblib>=1.2.0 in /data/pinello/SHARED_SOFTWARE/anaconda_latest/envs/MilliV2/lib/python3.10/site-packages (from scikit-learn>=1.1.0->pydeseq2==0.4.4->crispr-millipede==0.1.97) (1.4.2)\n",
      "Requirement already satisfied: threadpoolctl>=3.1.0 in /data/pinello/SHARED_SOFTWARE/anaconda_latest/envs/MilliV2/lib/python3.10/site-packages (from scikit-learn>=1.1.0->pydeseq2==0.4.4->crispr-millipede==0.1.97) (3.5.0)\n",
      "Requirement already satisfied: patsy>=0.5.6 in /data/pinello/SHARED_SOFTWARE/anaconda_latest/envs/MilliV2/lib/python3.10/site-packages (from statsmodels->pydeseq2==0.4.4->crispr-millipede==0.1.97) (0.5.6)\n",
      "Requirement already satisfied: filelock in /data/pinello/SHARED_SOFTWARE/anaconda_latest/envs/MilliV2/lib/python3.10/site-packages (from torch->millipede-regression==0.1.6->crispr-millipede==0.1.97) (3.13.4)\n",
      "Requirement already satisfied: sympy in /data/pinello/SHARED_SOFTWARE/anaconda_latest/envs/MilliV2/lib/python3.10/site-packages (from torch->millipede-regression==0.1.6->crispr-millipede==0.1.97) (1.12)\n",
      "Requirement already satisfied: networkx in /data/pinello/SHARED_SOFTWARE/anaconda_latest/envs/MilliV2/lib/python3.10/site-packages (from torch->millipede-regression==0.1.6->crispr-millipede==0.1.97) (3.3)\n",
      "Requirement already satisfied: jinja2 in /data/pinello/SHARED_SOFTWARE/anaconda_latest/envs/MilliV2/lib/python3.10/site-packages (from torch->millipede-regression==0.1.6->crispr-millipede==0.1.97) (3.1.3)\n",
      "Requirement already satisfied: fsspec in /data/pinello/SHARED_SOFTWARE/anaconda_latest/envs/MilliV2/lib/python3.10/site-packages (from torch->millipede-regression==0.1.6->crispr-millipede==0.1.97) (2024.3.1)\n",
      "Requirement already satisfied: parso<0.9.0,>=0.8.3 in /data/pinello/SHARED_SOFTWARE/anaconda_latest/envs/MilliV2/lib/python3.10/site-packages (from jedi>=0.16->ipython>=6.1.0->ipywidgets<9.0.0,>=8.1.2->crispr-millipede==0.1.97) (0.8.4)\n",
      "Requirement already satisfied: ptyprocess>=0.5 in /data/pinello/SHARED_SOFTWARE/anaconda_latest/envs/MilliV2/lib/python3.10/site-packages (from pexpect>4.3->ipython>=6.1.0->ipywidgets<9.0.0,>=8.1.2->crispr-millipede==0.1.97) (0.7.0)\n",
      "Requirement already satisfied: wcwidth in /data/pinello/SHARED_SOFTWARE/anaconda_latest/envs/MilliV2/lib/python3.10/site-packages (from prompt-toolkit<3.1.0,>=3.0.41->ipython>=6.1.0->ipywidgets<9.0.0,>=8.1.2->crispr-millipede==0.1.97) (0.2.13)\n",
      "Requirement already satisfied: MarkupSafe>=2.0 in /data/pinello/SHARED_SOFTWARE/anaconda_latest/envs/MilliV2/lib/python3.10/site-packages (from jinja2->torch->millipede-regression==0.1.6->crispr-millipede==0.1.97) (2.1.5)\n",
      "Requirement already satisfied: executing>=1.2.0 in /data/pinello/SHARED_SOFTWARE/anaconda_latest/envs/MilliV2/lib/python3.10/site-packages (from stack-data->ipython>=6.1.0->ipywidgets<9.0.0,>=8.1.2->crispr-millipede==0.1.97) (2.0.1)\n",
      "Requirement already satisfied: asttokens>=2.1.0 in /data/pinello/SHARED_SOFTWARE/anaconda_latest/envs/MilliV2/lib/python3.10/site-packages (from stack-data->ipython>=6.1.0->ipywidgets<9.0.0,>=8.1.2->crispr-millipede==0.1.97) (2.4.1)\n",
      "Requirement already satisfied: pure-eval in /data/pinello/SHARED_SOFTWARE/anaconda_latest/envs/MilliV2/lib/python3.10/site-packages (from stack-data->ipython>=6.1.0->ipywidgets<9.0.0,>=8.1.2->crispr-millipede==0.1.97) (0.2.2)\n",
      "Requirement already satisfied: mpmath>=0.19 in /data/pinello/SHARED_SOFTWARE/anaconda_latest/envs/MilliV2/lib/python3.10/site-packages (from sympy->torch->millipede-regression==0.1.6->crispr-millipede==0.1.97) (1.3.0)\n",
      "Downloading crispr_millipede-0.1.97-py3-none-any.whl (43 kB)\n",
      "\u001b[2K   \u001b[90m━━━━━━━━━━━━━━━━━━━━━━━━━━━━━━━━━━━━━━━━\u001b[0m \u001b[32m43.3/43.3 kB\u001b[0m \u001b[31m58.7 kB/s\u001b[0m eta \u001b[36m0:00:00\u001b[0m \u001b[36m0:00:01\u001b[0m\n",
      "\u001b[?25hInstalling collected packages: crispr-millipede\n",
      "  Attempting uninstall: crispr-millipede\n",
      "    Found existing installation: crispr-millipede 0.1.96\n",
      "    Uninstalling crispr-millipede-0.1.96:\n",
      "      Successfully uninstalled crispr-millipede-0.1.96\n",
      "Successfully installed crispr-millipede-0.1.97\n"
     ]
    }
   ],
   "source": [
    "!pip install crispr-millipede==0.1.97"
   ]
  },
  {
   "cell_type": "code",
   "execution_count": 4,
   "id": "660ab91c",
   "metadata": {},
   "outputs": [],
   "source": [
    "from crispr_millipede import encoding as cme\n",
    "from crispr_millipede import modelling as cmm\n",
    "AMPLICON = \"ACATGCTCTAGTGAAAGCCAGTCTGGGCAGCTGGGTAGCTAATGAGGGGATTAGAGAGATTTTGTTGAATGAAAGGCAGATTGAGTCCTGCTACTCGCCCCCTTCATTCCCCTTCATTCATGCCTCATTCTTCCGCCTCCCAGCCGCCTCAACTGGCCAAAGGGAAGTGGAGGCCCTGCCACCTGTAGGGAGGGTCCCCTGGGGCTTGCCCACAGCAAACAGGAAGTCACAGCCTGGTGAGATGGGCCTGGGAATCAGCCACTGAGAAAGTGGGTCTCTTGGGTCCCTGAATTCTTTTTCTGAGTCCCTGCAGCAGTGAAAAAGACACAGAGGCACATAGAGAGTG\"\n"
   ]
  },
  {
   "attachments": {},
   "cell_type": "markdown",
   "id": "c8069bdf",
   "metadata": {},
   "source": [
    "# ABE8e"
   ]
  },
  {
   "attachments": {},
   "cell_type": "markdown",
   "id": "f25521ac",
   "metadata": {},
   "source": [
    "### Compute editing rates for figure (Encoding pkl file is required)"
   ]
  },
  {
   "cell_type": "code",
   "execution_count": 5,
   "id": "50f65360",
   "metadata": {},
   "outputs": [
    {
     "name": "stdout",
     "output_type": "stream",
     "text": [
      "['./20240807_v0_1_84_encoding_dataframes_denoised_removed_CD19minus_ABE8e_encodings_rep{}.pkl']\n",
      "Reading enriched population...\n",
      "Reading baseline population...\n",
      "Reading presort population if provided...\n",
      "Reading control population if provided...\n",
      "Passed post-validation\n"
     ]
    }
   ],
   "source": [
    "paired_merged_raw_encodings = cmm.RawEncodingDataframesExperimentalGroup().read_in_files_constructor(\n",
    "    enriched_pop_fn_encodings_experiment_list = [\"./20240807_v0_1_84_encoding_dataframes_denoised_removed_CD19minus_ABE8e_encodings_rep{}.pkl\"],\n",
    "    baseline_pop_fn_encodings_experiment_list = [\"./20240807_v0_1_84_encoding_dataframes_denoised_removed_CD19plus_ABE8e_encodings_rep{}.pkl\"],\n",
    "    presort_pop_fn_encodings_experiment_list = [\"./20240807_v0_1_84_encoding_dataframes_denoised_removed_presort_ABE8e_encodings_rep{}.pkl\"],\n",
    "    experiment_labels = [\"ABE8e\"],\n",
    "    ctrl_pop_fn_encodings=\"./20240807_v0_1_84_encoding_dataframes_denoised_removed_wt_encodings_rep0.pkl\",\n",
    "    ctrl_pop_labels=\"WT\",\n",
    "    reps = [0,1,2],\n",
    "   )\n"
   ]
  },
  {
   "cell_type": "code",
   "execution_count": null,
   "id": "6c0209f0",
   "metadata": {},
   "outputs": [],
   "source": [
    "paired_merged_raw_encodings_editing_freqs.presort_pop_encoding_editing_per_variant_freq_avg[0].to_csv('presort_editing_freqs_avg_ABE8e_1_89.csv')\n",
    "paired_merged_raw_encodings_editing_freqs.baseline_pop_encoding_editing_per_variant_freq_avg[0].to_csv('baseline_editing_freqs_avg_ABE8e_1_89.csv')\n",
    "paired_merged_raw_encodings_editing_freqs.enriched_pop_encoding_editing_per_variant_freq_avg[0].to_csv('enriched_editing_freqs_avg_ABE8e_1_89.csv')\n",
    "paired_merged_raw_encodings_editing_freqs.ctrl_pop_encoding_editing_per_variant_freq_avg[0].to_csv('wt_editing_freqs_avg_ABE8e_1_89.csv')"
   ]
  },
  {
   "attachments": {},
   "cell_type": "markdown",
   "id": "1f3e1713",
   "metadata": {},
   "source": [
    "### Generate boardplot\n",
    "\n",
    "#### Requires (Editor Name, Millipede Output, Presort Editing Frequencies, WT Editing Frequencies, Start Amplicon Position, End Amplicon Position, Amplicon)\n",
    "\n",
    "#### Optional parameters include binarized_threshold for editing  (default[Presort/WT] = 1.5), fig_width, fig_height, outputPath)"
   ]
  },
  {
   "cell_type": "code",
   "execution_count": 6,
   "id": "42508421",
   "metadata": {},
   "outputs": [
    {
     "name": "stderr",
     "output_type": "stream",
     "text": [
      "/data/pinello/SHARED_SOFTWARE/anaconda_latest/envs/MilliV2/lib/python3.10/site-packages/crispr_millipede/modelling/board_plot_visualization.py:66: SettingWithCopyWarning: \n",
      "A value is trying to be set on a copy of a slice from a DataFrame.\n",
      "Try using .loc[row_indexer,col_indexer] = value instead\n",
      "\n",
      "See the caveats in the documentation: https://pandas.pydata.org/pandas-docs/stable/user_guide/indexing.html#returning-a-view-versus-a-copy\n",
      "  millipede_dataframe_Betas.loc[:,'MainIndex'] = millipede_dataframe_Betas['MainIndex'].astype(float)\n",
      "/data/pinello/SHARED_SOFTWARE/anaconda_latest/envs/MilliV2/lib/python3.10/site-packages/crispr_millipede/modelling/board_plot_visualization.py:72: SettingWithCopyWarning: \n",
      "A value is trying to be set on a copy of a slice from a DataFrame.\n",
      "Try using .loc[row_indexer,col_indexer] = value instead\n",
      "\n",
      "See the caveats in the documentation: https://pandas.pydata.org/pandas-docs/stable/user_guide/indexing.html#returning-a-view-versus-a-copy\n",
      "  millipede_dataframe_PIPS.loc[:,'MainIndex'] = millipede_dataframe['MainIndex'].astype(float)\n",
      "/data/pinello/SHARED_SOFTWARE/anaconda_latest/envs/MilliV2/lib/python3.10/site-packages/crispr_millipede/modelling/board_plot_visualization.py:120: SettingWithCopyWarning: \n",
      "A value is trying to be set on a copy of a slice from a DataFrame.\n",
      "Try using .loc[row_indexer,col_indexer] = value instead\n",
      "\n",
      "See the caveats in the documentation: https://pandas.pydata.org/pandas-docs/stable/user_guide/indexing.html#returning-a-view-versus-a-copy\n",
      "  merged_df_ratios.loc[:,'MainIndex'] = merged_df_ratios['MainIndex'].astype(float)\n"
     ]
    },
    {
     "data": {
      "image/png": "[encoded data removed]",
      "text/plain": [
       "<Figure size 800x200 with 2 Axes>"
      ]
     },
     "metadata": {},
     "output_type": "display_data"
    }
   ],
   "source": [
    "cmm.plot_millipede_boardplot(\"ABE8e\", 'CD19_ABE8e_sigma_hit_table_ZP.csv', 'presort_editing_freqs_avg_ABE8e_1_89.csv' , 'wt_editing_freqs_avg_ABE8e_1_89.csv', 204,244, AMPLICON, outputPath = \"BoardplotABE8e.svg\")"
   ]
  },
  {
   "attachments": {},
   "cell_type": "markdown",
   "id": "f836ac50",
   "metadata": {},
   "source": [
    "# evoCDA"
   ]
  },
  {
   "cell_type": "code",
   "execution_count": null,
   "id": "fe0d777d",
   "metadata": {},
   "outputs": [],
   "source": [
    "paired_merged_raw_encodings = cmm.RawEncodingDataframesExperimentalGroup().read_in_files_constructor(\n",
    "    enriched_pop_fn_encodings_experiment_list=[\"./20240816_v0_1_84_EvoCDA_encoding_dataframes_denoised_removed_CD19minus_ABE8e_encodings_rep{}.pkl\"],\n",
    "    baseline_pop_fn_encodings_experiment_list=[\"./20240816_v0_1_84_EvoCDA_encoding_dataframes_denoised_removed_CD19plus_ABE8e_encodings_rep{}.pkl\"], \n",
    "    presort_pop_fn_encodings_experiment_list=[\"./20240816_v0_1_84_EvoCDA_encoding_dataframes_denoised_removed_presort_ABE8e_encodings_rep{}.pkl\"],\n",
    "    experiment_labels=[\"EvoCDA\"],\n",
    "    ctrl_pop_fn_encodings=\"./20240816_v0_1_84_EvoCDA_encoding_dataframes_denoised_removed_wt_encodings_rep0.pkl\",\n",
    "    ctrl_pop_labels=\"WT\",\n",
    "    reps=[0,1,2])\n",
    "paired_merged_raw_encodings_editing_freqs = cmm.EncodingEditingFrequenciesExperimentalGroup(paired_merged_raw_encodings)"
   ]
  },
  {
   "cell_type": "code",
   "execution_count": null,
   "id": "d1cf7eeb",
   "metadata": {},
   "outputs": [],
   "source": [
    "paired_merged_raw_encodings_editing_freqs.presort_pop_encoding_editing_per_variant_freq_avg[0].to_csv('presort_editing_freqs_avg_evoCDA_1_89.csv')\n",
    "paired_merged_raw_encodings_editing_freqs.baseline_pop_encoding_editing_per_variant_freq_avg[0].to_csv('baseline_editing_freqs_avg_evoCDA_1_89.csv')\n",
    "paired_merged_raw_encodings_editing_freqs.enriched_pop_encoding_editing_per_variant_freq_avg[0].to_csv('enriched_editing_freqs_avg_evoCDA_1_89.csv')\n",
    "paired_merged_raw_encodings_editing_freqs.ctrl_pop_encoding_editing_per_variant_freq_avg[0].to_csv('wt_editing_freqs_avg_evoCDA_1_89.csv')"
   ]
  },
  {
   "cell_type": "code",
   "execution_count": 3,
   "id": "6ce1a1cc",
   "metadata": {},
   "outputs": [
    {
     "name": "stderr",
     "output_type": "stream",
     "text": [
      "/data/pinello/PROJECTS/2023_08_CD19_manuscript/Core_Processing_Analysis/Analysis/ABE8e_Pooled_Endogenous_Redo_SecondAttempt_No_Contaminant_Millipede_Analysis/CRISPR-millipede-target-Visualization/crispr_millipede/modelling/board_plot_visualization.py:67: SettingWithCopyWarning: \n",
      "A value is trying to be set on a copy of a slice from a DataFrame.\n",
      "Try using .loc[row_indexer,col_indexer] = value instead\n",
      "\n",
      "See the caveats in the documentation: https://pandas.pydata.org/pandas-docs/stable/user_guide/indexing.html#returning-a-view-versus-a-copy\n",
      "  millipede_dataframe_Betas.loc[:,'MainIndex'] = millipede_dataframe_Betas['MainIndex'].astype(float)\n",
      "/data/pinello/PROJECTS/2023_08_CD19_manuscript/Core_Processing_Analysis/Analysis/ABE8e_Pooled_Endogenous_Redo_SecondAttempt_No_Contaminant_Millipede_Analysis/CRISPR-millipede-target-Visualization/crispr_millipede/modelling/board_plot_visualization.py:73: SettingWithCopyWarning: \n",
      "A value is trying to be set on a copy of a slice from a DataFrame.\n",
      "Try using .loc[row_indexer,col_indexer] = value instead\n",
      "\n",
      "See the caveats in the documentation: https://pandas.pydata.org/pandas-docs/stable/user_guide/indexing.html#returning-a-view-versus-a-copy\n",
      "  millipede_dataframe_PIPS.loc[:,'MainIndex'] = millipede_dataframe['MainIndex'].astype(float)\n",
      "/data/pinello/PROJECTS/2023_08_CD19_manuscript/Core_Processing_Analysis/Analysis/ABE8e_Pooled_Endogenous_Redo_SecondAttempt_No_Contaminant_Millipede_Analysis/CRISPR-millipede-target-Visualization/crispr_millipede/modelling/board_plot_visualization.py:121: SettingWithCopyWarning: \n",
      "A value is trying to be set on a copy of a slice from a DataFrame.\n",
      "Try using .loc[row_indexer,col_indexer] = value instead\n",
      "\n",
      "See the caveats in the documentation: https://pandas.pydata.org/pandas-docs/stable/user_guide/indexing.html#returning-a-view-versus-a-copy\n",
      "  merged_df_ratios.loc[:,'MainIndex'] = merged_df_ratios['MainIndex'].astype(float)\n"
     ]
    },
    {
     "data": {
      "image/png": "[encoded data removed]",
      "text/plain": [
       "<Figure size 800x200 with 2 Axes>"
      ]
     },
     "metadata": {},
     "output_type": "display_data"
    }
   ],
   "source": [
    "cmm.plot_millipede_boardplot(\"evoCDA\", 'CD19_evoCDA_sigma_hit_table_ZP.csv', 'presort_editing_freqs_avg_evoCDA_1_89.csv' , 'wt_editing_freqs_avg_evoCDA_1_89.csv', 204,244, AMPLICON, outputPath = \"BoardplotEvoCDA.svg\")"
   ]
  },
  {
   "attachments": {},
   "cell_type": "markdown",
   "id": "78ab587e",
   "metadata": {},
   "source": [
    "## sg218"
   ]
  },
  {
   "cell_type": "code",
   "execution_count": null,
   "id": "ca49f49c",
   "metadata": {},
   "outputs": [],
   "source": [
    "paired_merged_raw_encodings = cmm.RawEncodingDataframesExperimentalGroup().read_in_files_constructor(\n",
    "    enriched_pop_fn_encodings_experiment_list=[\"./20240905_v0_1_89_sg219_encoding_dataframes_variantdenoised_removed_CRISPResso2Merged_trimmed_CD19minus_ABE8e_encodings_rep{}.pkl\"],\n",
    "    baseline_pop_fn_encodings_experiment_list=[\"./20240905_v0_1_89_sg219_encoding_dataframes_variantdenoised_removed_CRISPResso2Merged_trimmed_CD19plus_ABE8e_encodings_rep{}.pkl\"], \n",
    "    presort_pop_fn_encodings_experiment_list=[\"./20240905_v0_1_89_sg219_encoding_dataframes_variantdenoised_removed_CRISPResso2Merged_trimmed_presort_ABE8e_encodings_rep{}.pkl\"],\n",
    "    experiment_labels=[\"Abe8e\"],\n",
    "    ctrl_pop_fn_encodings=\"./20240905_v0_1_89_sg219_encoding_dataframes_variantdenoised_removed_CRISPResso2Merged_trimmed_wt_encodings_rep0.pkl\",\n",
    "    ctrl_pop_labels=\"WT\",\n",
    "    reps=[0,1,2])\n",
    "paired_merged_raw_encodings_editing_freqs = cmm.EncodingEditingFrequenciesExperimentalGroup(paired_merged_raw_encodings)"
   ]
  },
  {
   "cell_type": "code",
   "execution_count": null,
   "id": "dee3d6c1",
   "metadata": {},
   "outputs": [],
   "source": [
    "paired_merged_raw_encodings_editing_freqs.presort_pop_encoding_editing_per_variant_freq_avg[0].to_csv('presort_editing_freqs_avg_sg219.csv')\n",
    "paired_merged_raw_encodings_editing_freqs.ctrl_pop_encoding_editing_per_variant_freq_avg[0].to_csv('wt_editing_freqs_avg_sg219.csv')"
   ]
  },
  {
   "cell_type": "code",
   "execution_count": 5,
   "id": "d423d409",
   "metadata": {},
   "outputs": [
    {
     "name": "stderr",
     "output_type": "stream",
     "text": [
      "/data/pinello/PROJECTS/2023_08_CD19_manuscript/Core_Processing_Analysis/Analysis/ABE8e_Pooled_Endogenous_Redo_SecondAttempt_No_Contaminant_Millipede_Analysis/CRISPR-millipede-target-Visualization/crispr_millipede/modelling/board_plot_visualization.py:67: SettingWithCopyWarning: \n",
      "A value is trying to be set on a copy of a slice from a DataFrame.\n",
      "Try using .loc[row_indexer,col_indexer] = value instead\n",
      "\n",
      "See the caveats in the documentation: https://pandas.pydata.org/pandas-docs/stable/user_guide/indexing.html#returning-a-view-versus-a-copy\n",
      "  millipede_dataframe_Betas.loc[:,'MainIndex'] = millipede_dataframe_Betas['MainIndex'].astype(float)\n",
      "/data/pinello/PROJECTS/2023_08_CD19_manuscript/Core_Processing_Analysis/Analysis/ABE8e_Pooled_Endogenous_Redo_SecondAttempt_No_Contaminant_Millipede_Analysis/CRISPR-millipede-target-Visualization/crispr_millipede/modelling/board_plot_visualization.py:73: SettingWithCopyWarning: \n",
      "A value is trying to be set on a copy of a slice from a DataFrame.\n",
      "Try using .loc[row_indexer,col_indexer] = value instead\n",
      "\n",
      "See the caveats in the documentation: https://pandas.pydata.org/pandas-docs/stable/user_guide/indexing.html#returning-a-view-versus-a-copy\n",
      "  millipede_dataframe_PIPS.loc[:,'MainIndex'] = millipede_dataframe['MainIndex'].astype(float)\n",
      "/data/pinello/PROJECTS/2023_08_CD19_manuscript/Core_Processing_Analysis/Analysis/ABE8e_Pooled_Endogenous_Redo_SecondAttempt_No_Contaminant_Millipede_Analysis/CRISPR-millipede-target-Visualization/crispr_millipede/modelling/board_plot_visualization.py:121: SettingWithCopyWarning: \n",
      "A value is trying to be set on a copy of a slice from a DataFrame.\n",
      "Try using .loc[row_indexer,col_indexer] = value instead\n",
      "\n",
      "See the caveats in the documentation: https://pandas.pydata.org/pandas-docs/stable/user_guide/indexing.html#returning-a-view-versus-a-copy\n",
      "  merged_df_ratios.loc[:,'MainIndex'] = merged_df_ratios['MainIndex'].astype(float)\n"
     ]
    },
    {
     "data": {
      "image/png": "[encoded data removed]",
      "text/plain": [
       "<Figure size 800x200 with 2 Axes>"
      ]
     },
     "metadata": {},
     "output_type": "display_data"
    }
   ],
   "source": [
    "cmm.plot_millipede_boardplot(\"ABE8e\",'CD19_sg219_sigma_hit_table_ZP.csv','presort_editing_freqs_avg_sg219.csv', 'wt_editing_freqs_avg_sg219.csv' , 204,244, AMPLICON, outputPath = \"BoardplotEvoCDA.svg\")"
   ]
  },
  {
   "cell_type": "code",
   "execution_count": null,
   "id": "b4a28f05",
   "metadata": {},
   "outputs": [],
   "source": []
  }
 ],
 "metadata": {
  "kernelspec": {
   "display_name": "Python [conda env:MilliV2]",
   "language": "python",
   "name": "conda-env-MilliV2-py"
  },
  "language_info": {
   "codemirror_mode": {
    "name": "ipython",
    "version": 3
   },
   "file_extension": ".py",
   "mimetype": "text/x-python",
   "name": "python",
   "nbconvert_exporter": "python",
   "pygments_lexer": "ipython3",
   "version": "3.10.14"
  }
 },
 "nbformat": 4,
 "nbformat_minor": 5
}
